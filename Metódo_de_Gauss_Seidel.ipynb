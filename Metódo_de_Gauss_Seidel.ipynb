{
  "nbformat": 4,
  "nbformat_minor": 0,
  "metadata": {
    "kernelspec": {
      "name": "python36",
      "display_name": "Python 3.6",
      "language": "python"
    },
    "language_info": {
      "mimetype": "text/x-python",
      "nbconvert_exporter": "python",
      "name": "python",
      "pygments_lexer": "ipython3",
      "version": "3.6.6",
      "file_extension": ".py",
      "codemirror_mode": {
        "version": 3,
        "name": "ipython"
      }
    },
    "colab": {
      "name": "Metódo de Gauss-Seidel",
      "provenance": [],
      "collapsed_sections": [],
      "include_colab_link": true
    }
  },
  "cells": [
    {
      "cell_type": "markdown",
      "metadata": {
        "id": "view-in-github",
        "colab_type": "text"
      },
      "source": [
        "<a href=\"https://colab.research.google.com/github/aldoxd82/optimizacion1D/blob/master/Met%C3%B3do_de_Gauss_Seidel.ipynb\" target=\"_parent\"><img src=\"https://colab.research.google.com/assets/colab-badge.svg\" alt=\"Open In Colab\"/></a>"
      ]
    },
    {
      "cell_type": "markdown",
      "metadata": {
        "collapsed": true,
        "id": "cufmOspZbcY1"
      },
      "source": [
        "\n",
        "# Métodos iterativos.\n",
        "\n",
        "Hasta ahora, hemos trabajado con métodos directos de solución. La característica común de estos métodos es que encuentran una solución a través de realizar unas serie de cálculos finitos. Si la computadora fuera capaz de una precisión infinita, la solución sería exacta.\n",
        "\n",
        "Por otra parte, los métodos iterativos, utilizan una estimación inicial de la solución x y la van refinando de manera iterativa hasta que el error sea despreciable. Una de las desventajas de estos métodos es que no siempre convergen a una solución.\n",
        "\n",
        "A continuación vamos a introducir el Método Gauss-Seidel para la solución de Sistemas de Ecuaciones Lineales.\n",
        "\n",
        "## Método Gauss-Seidel\n",
        "\n",
        "Podemos escribir las ecuaciones $Ax=b$ en notación escalar:\n",
        "\n",
        "$$\\sum_{j=1}^{n}A_{ij}x_{j}=b_i, \\quad    i=1,2,..,n$$\n",
        "\n",
        "Si extraemos de la sumatoria al término $x_i$\n",
        "\n",
        "$$ A_{ii}x_i+\\sum_{\\begin{array}{lcl} j=1 \\\\ j \\ne i \\end{array}}^{n}A_{ij}x_{j}=b_i, \\quad    i=1,2,..,n$$\n",
        "\n",
        "Ahora podemos despejar a $x_i$\n",
        "\n",
        "$$ x_i=\\frac{1}{A_{ii}} \\left( b_i-\\sum_{\\begin{array}{lcl} j=1 \\\\ j \\ne i \\end{array}}^{n}A_{ij}x_{j} \\right), \\quad    i=1,2,..,n$$\n",
        "\n",
        "Lo que sugiere un esquema iterativo como el que sigue\n",
        "\n",
        "$$ x_i \\leftarrow \\frac{1}{A_{ii}} \\left( b_i-\\sum_{\\begin{array}{lcl} j=1 \\\\ j \\ne i \\end{array}}^{n}A_{ij}x_{j} \\right), \\quad    i=1,2,..,n$$\n",
        "\n",
        "Empezamos eligiendo el vector inicial $x$, si no existe una aproximación adecuada, podemos elegir a x de manera arbitraria."
      ]
    },
    {
      "cell_type": "code",
      "metadata": {
        "trusted": true,
        "id": "7SCqju78bcZA"
      },
      "source": [
        "import numpy as np\n",
        "def seidel(A,b):\n",
        "    n=len(b) #Determinamos el número de incógnitas.\n",
        "    x=np.zeros(n) #Generamos un vector dependiendo el número de incógnitas\n",
        "    \n",
        "    for i in range (n):\n",
        "        suma=0\n",
        "        for j in range (n):\n",
        "            if(j!=i):\n",
        "                suma-=A[i][j]*x[j]                \n",
        "            x[i]=(b[i]+suma)/A[i][i]\n",
        "        print(\"x[\"+str(i)+\"]:\",x[i])        "
      ],
      "execution_count": null,
      "outputs": []
    },
    {
      "cell_type": "code",
      "metadata": {
        "trusted": true,
        "id": "qGtLvV6wbcZE",
        "colab": {
          "base_uri": "https://localhost:8080/"
        },
        "outputId": "9f35f7c7-cb81-4ba2-9b0d-6fd4b99bc732"
      },
      "source": [
        "A = [[4, 1, 2],[3, 5, 1],[1, 1, 3]] \n",
        "b = [4,7,3]\n",
        "seidel(A,b) "
      ],
      "execution_count": null,
      "outputs": [
        {
          "output_type": "stream",
          "name": "stdout",
          "text": [
            "x[0]: 1.0\n",
            "x[1]: 0.8\n",
            "x[2]: 0.39999999999999997\n"
          ]
        }
      ]
    },
    {
      "cell_type": "code",
      "metadata": {
        "trusted": true,
        "id": "yZOVkD5CbcZh"
      },
      "source": [
        "import matplotlib.pyplot as plt\n",
        "import math\n",
        "\n",
        "def AlgIterativo(valorActual,iteracionMaxima,errorMinimo):\n",
        "    contadorIteraciones=0\n",
        "    valorAnterior=0\n",
        "    errorActual=0;\n",
        "    vectorX=[]\n",
        "    vectorY=[]\n",
        "    while(1):\n",
        "        valorAnterior=valorActual\n",
        "        valorActual=f(valorActual)\n",
        "        contadorIteraciones=contadorIteraciones+1\n",
        "        errorActual=abs((valorAnterior-valorActual)/valorActual)\n",
        "        \n",
        "        vectorX.append(contadorIteraciones)\n",
        "        vectorY.append(valorActual)\n",
        "        \n",
        "        if (errorActual<=errorMinimo):\n",
        "            fig, ax = plt.subplots()\n",
        "            ax.scatter(vectorX, vectorY)\n",
        "            plt.show()\n",
        "            return valorActual\n",
        "        elif (contadorIteraciones==iteracionMaxima):\n",
        "            print(\"Se alcanzaron las iteraciones máximas\")\n",
        "            fig, ax = plt.subplots()\n",
        "            ax.scatter(vectorX, vectorY)\n",
        "            plt.show()\n",
        "            break\n",
        "        print(\"Iteración \"+ str(contadorIteraciones) +\": \"+ str(valorActual))\n",
        "        #print(vectorX)\n",
        "        #print(vectorY)\n",
        "    \n",
        "def f(x):\n",
        "    return (math.cos(x))"
      ],
      "execution_count": null,
      "outputs": []
    },
    {
      "cell_type": "code",
      "metadata": {
        "id": "65lVukxPZWY-"
      },
      "source": [
        "import numpy as np\n",
        "def seidel(A,b,IteracionMaxima):\n",
        "  n=len(b)\n",
        "  contadorIteraciones=0\n",
        "  x=np.zeros(n)\n",
        "  x_old=np.zeros(n)\n",
        "  errorActual=np.zeros(n)\n",
        "  while(1):\n",
        "    print(\"Iteracion: \" + str(contadorIteraciones+1)+ \":\")\n",
        "    contadorIteraciones=contadorIteraciones+1\n",
        "    for i in range (n):\n",
        "      suma=0\n",
        "      for j in range (n):\n",
        "        if(j!=i):\n",
        "           suma=A[i][j]*x[j]\n",
        "      x[i]=(b[i]+suma)/A[i][i]\n",
        "\n",
        "    print(x)\n",
        "    print(errorActual)\n",
        "    x_old=x\n",
        "\n",
        "    for i in range(n):\n",
        "      errorActual[i]=abs((x_old[i]-x[i]/x[i]))\n",
        "\n",
        "    if(contadorIteraciones==IteracionMaxima):\n",
        "      break"
      ],
      "execution_count": null,
      "outputs": []
    },
    {
      "cell_type": "code",
      "metadata": {
        "colab": {
          "base_uri": "https://localhost:8080/"
        },
        "id": "orx8hlC44T2M",
        "outputId": "50abbdf3-3716-463a-a5f2-aea18b7e325d"
      },
      "source": [
        "A=[[4,1,2],[3,5,1],[1,1,3]]\n",
        "b=[4,7,3]\n",
        "seidel(A,b,10)"
      ],
      "execution_count": null,
      "outputs": [
        {
          "output_type": "stream",
          "name": "stdout",
          "text": [
            "Iteracion: 1:\n",
            "[1.         1.4        1.46666667]\n",
            "[0. 0. 0.]\n",
            "Iteracion: 2:\n",
            "[1.73333333 1.69333333 1.56444444]\n",
            "[0.         0.4        0.46666667]\n",
            "Iteracion: 3:\n",
            "[1.78222222 1.71288889 1.57096296]\n",
            "[0.73333333 0.69333333 0.56444444]\n",
            "Iteracion: 4:\n",
            "[1.78548148 1.71419259 1.57139753]\n",
            "[0.78222222 0.71288889 0.57096296]\n",
            "Iteracion: 5:\n",
            "[1.78569877 1.71427951 1.5714265 ]\n",
            "[0.78548148 0.71419259 0.57139753]\n",
            "Iteracion: 6:\n",
            "[1.78571325 1.7142853  1.57142843]\n",
            "[0.78569877 0.71427951 0.5714265 ]\n",
            "Iteracion: 7:\n",
            "[1.78571422 1.71428569 1.57142856]\n",
            "[0.78571325 0.7142853  0.57142843]\n",
            "Iteracion: 8:\n",
            "[1.78571428 1.71428571 1.57142857]\n",
            "[0.78571422 0.71428569 0.57142856]\n",
            "Iteracion: 9:\n",
            "[1.78571429 1.71428571 1.57142857]\n",
            "[0.78571428 0.71428571 0.57142857]\n",
            "Iteracion: 10:\n",
            "[1.78571429 1.71428571 1.57142857]\n",
            "[0.78571429 0.71428571 0.57142857]\n"
          ]
        }
      ]
    }
  ]
}