{
  "nbformat": 4,
  "nbformat_minor": 0,
  "metadata": {
    "colab": {
      "name": "Untitled0.ipynb",
      "provenance": [],
      "collapsed_sections": [],
      "include_colab_link": true
    },
    "kernelspec": {
      "name": "python3",
      "display_name": "Python 3"
    },
    "language_info": {
      "name": "python"
    }
  },
  "cells": [
    {
      "cell_type": "markdown",
      "metadata": {
        "id": "view-in-github",
        "colab_type": "text"
      },
      "source": [
        "<a href=\"https://colab.research.google.com/github/aldoxd82/optimizacion1D/blob/master/Untitled0.ipynb\" target=\"_parent\"><img src=\"https://colab.research.google.com/assets/colab-badge.svg\" alt=\"Open In Colab\"/></a>"
      ]
    },
    {
      "cell_type": "code",
      "metadata": {
        "id": "R4BuVnzJ6vx1",
        "colab": {
          "base_uri": "https://localhost:8080/"
        },
        "outputId": "67d00216-0a9c-4bae-abcb-87e7240a1878"
      },
      "source": [
        "from google.colab import drive\n",
        "drive.mount('/content/drive')"
      ],
      "execution_count": null,
      "outputs": [
        {
          "output_type": "stream",
          "name": "stdout",
          "text": [
            "Drive already mounted at /content/drive; to attempt to forcibly remount, call drive.mount(\"/content/drive\", force_remount=True).\n"
          ]
        }
      ]
    },
    {
      "cell_type": "code",
      "metadata": {
        "id": "W-f6dfSKscvD"
      },
      "source": [
        "import math \n",
        "\n",
        "def cuadratica(a, b, c):\n",
        "  if a==0 :\n",
        "    print(\"A es cero y no es posible resolver la ecuacion \")\n",
        "  else:\n",
        "    x_1= (-b+(b**2-(4*a*c))**(1/2))/2*a\n",
        "    x_1= (-b-(b**2-(4*a*c))**(1/2))/2*a\n",
        "  return x_1, x_2  \n",
        "\n",
        "\n",
        "    \n",
        "  "
      ],
      "execution_count": null,
      "outputs": []
    },
    {
      "cell_type": "code",
      "metadata": {
        "id": "Eru9gvObyazm",
        "colab": {
          "base_uri": "https://localhost:8080/",
          "height": 130
        },
        "outputId": "871bd4f4-e7de-4dd2-9bf0-4b8296ab953a"
      },
      "source": [
        "  solucion= cuadratica (1, 2, 3)\n",
        "    print(str(solucion[0]))"
      ],
      "execution_count": null,
      "outputs": [
        {
          "output_type": "error",
          "ename": "IndentationError",
          "evalue": "ignored",
          "traceback": [
            "\u001b[0;36m  File \u001b[0;32m\"<ipython-input-3-6ca1af52c9f6>\"\u001b[0;36m, line \u001b[0;32m2\u001b[0m\n\u001b[0;31m    print(str(solucion[0]))\u001b[0m\n\u001b[0m    ^\u001b[0m\n\u001b[0;31mIndentationError\u001b[0m\u001b[0;31m:\u001b[0m unexpected indent\n"
          ]
        }
      ]
    },
    {
      "cell_type": "code",
      "metadata": {
        "id": "0C8rkboivws3"
      },
      "source": [
        "import matplotlib.pyplot as plt\n",
        "import numpy as np"
      ],
      "execution_count": null,
      "outputs": []
    },
    {
      "cell_type": "code",
      "metadata": {
        "id": "ZQ1uq7r61e6E",
        "colab": {
          "base_uri": "https://localhost:8080/",
          "height": 282
        },
        "outputId": "1031524a-cd19-4316-dbe8-01fcf48e9478"
      },
      "source": [
        "plt.plot([-4, -3, -2, -1, 0, 1, 2, 3, 4], [16, 9, 4, 1, 0, 1, 4, 9, 16], 'ro')"
      ],
      "execution_count": null,
      "outputs": [
        {
          "output_type": "execute_result",
          "data": {
            "text/plain": [
              "[<matplotlib.lines.Line2D at 0x7fda42a53990>]"
            ]
          },
          "metadata": {},
          "execution_count": 5
        },
        {
          "output_type": "display_data",
          "data": {
            "image/png": "[encoded data removed]",
            "text/plain": [
              "<Figure size 432x288 with 1 Axes>"
            ]
          },
          "metadata": {
            "needs_background": "light"
          }
        }
      ]
    },
    {
      "cell_type": "code",
      "metadata": {
        "id": "rVmSJsw52q7x"
      },
      "source": [
        "def v(t):\n",
        "  return 53.44*(1 - math.e**(0.18355*t))\n",
        "  "
      ],
      "execution_count": null,
      "outputs": []
    },
    {
      "cell_type": "code",
      "metadata": {
        "id": "83_qgkeC1ahP"
      },
      "source": [
        "x=np.linspace(0, 50)\n"
      ],
      "execution_count": null,
      "outputs": []
    },
    {
      "cell_type": "code",
      "metadata": {
        "id": "M967lI62H8xV",
        "colab": {
          "base_uri": "https://localhost:8080/",
          "height": 130
        },
        "outputId": "c9cb58de-da60-4dca-f1b6-93517ad0ae4d"
      },
      "source": [
        "import math \n",
        "import matplotlib.pyplot as plt\n",
        "\n",
        "def funcion (dy,dx):\n",
        "  ecuacion= 3*(Q/A)*seno^2(t)-(Q/A)\n",
        "  return ecuacion\n",
        "\n",
        "h= float (input(\"Tamaño de paso:\")) \n",
        "s= float (input(\"Valor Maximo:\"))\n",
        "n=(s/h)\n",
        "x=np.zeros(n)\n",
        "y=np.zeros(n)\n",
        "print(x[0],y[0])\n",
        "for [i] in np.arange(1,n):\n",
        "  \n",
        "\n"
      ],
      "execution_count": null,
      "outputs": [
        {
          "output_type": "error",
          "ename": "SyntaxError",
          "evalue": "ignored",
          "traceback": [
            "\u001b[0;36m  File \u001b[0;32m\"<ipython-input-8-886576ed1ae2>\"\u001b[0;36m, line \u001b[0;32m16\u001b[0m\n\u001b[0;31m    \u001b[0m\n\u001b[0m    ^\u001b[0m\n\u001b[0;31mSyntaxError\u001b[0m\u001b[0;31m:\u001b[0m unexpected EOF while parsing\n"
          ]
        }
      ]
    },
    {
      "cell_type": "markdown",
      "metadata": {
        "id": "OB481-LC57MB"
      },
      "source": [
        ""
      ]
    },
    {
      "cell_type": "code",
      "metadata": {
        "id": "Hz6rDycpfUsl"
      },
      "source": [
        "import math\n",
        "\n",
        "def AlgIterativo(ValorActual,Iteraciones,ErrorMinimo):\n",
        "  contadorIteraciones=0\n",
        "  errorActual=0\n",
        "  vectorX=[] #nuevo\n",
        "  vectorY=[] #nuevo\n",
        "  \n",
        "  while(True):\n",
        "    valorAnterior=ValorActual\n",
        "    ValorActual= f(ValorActual)\n",
        "    contadorIteraciones=contadorIteraciones+1\n",
        "    errorActual=abs((valorAnterior-ValorActual)/ValorActual)\n",
        "\n",
        "    vectorX.append(contadorIteraciones)\n",
        "    vectorY.append(ValorActual)\n",
        "\n",
        "    if (errorActual<=ErrorMinimo):\n",
        "      print (\"Iteracion \" + str(ContadorIteraciones) + \" : \" + str(ValorActual))\n",
        "      plt.figure(figsize=(9,3))\n",
        "\n",
        "      plt.subplot(211)\n",
        "      plt.scatter(vectorX, vectorY, color=\"Red\")\n",
        "      plt.ylabel('Aproximaciones')\n",
        "      plt.xlabel('Iteraciones')\n",
        "\n",
        "      plt.subplot(211)\n",
        "      plt.scatter(vectorX, vectorY, color=\"Red\")\n",
        "      plt.ylabel('Aproximaciones')\n",
        "      plt.xlabel('Iteraciones')\n",
        "\n",
        "      plt.show()\n",
        "      return ValorActual\n",
        "\n",
        "    elif (contadorIteraciones==iteracionmaximas):\n",
        "      print (\"Se alcanzaron las iteraciones maximas\")\n",
        "      break \n",
        "      print (\"Iteracion \" + str(ContadorIteracione) + \" : \" + str(ValorActual))\n",
        "\n",
        "    def f(x):\n",
        "      return math.cos(x)\n",
        "\n",
        "\n"
      ],
      "execution_count": null,
      "outputs": []
    },
    {
      "cell_type": "code",
      "metadata": {
        "colab": {
          "base_uri": "https://localhost:8080/",
          "height": 282
        },
        "id": "uTRivHGEkRJr",
        "outputId": "3c410883-35de-4eae-e333-5fa2a922acd7"
      },
      "source": [
        "AlgIterativo(0,500,0.001)"
      ],
      "execution_count": null,
      "outputs": [
        {
          "output_type": "error",
          "ename": "UnboundLocalError",
          "evalue": "ignored",
          "traceback": [
            "\u001b[0;31m---------------------------------------------------------------------------\u001b[0m",
            "\u001b[0;31mUnboundLocalError\u001b[0m                         Traceback (most recent call last)",
            "\u001b[0;32m<ipython-input-5-da56768da7bd>\u001b[0m in \u001b[0;36m<module>\u001b[0;34m()\u001b[0m\n\u001b[0;32m----> 1\u001b[0;31m \u001b[0mAlgIterativo\u001b[0m\u001b[0;34m(\u001b[0m\u001b[0;36m0\u001b[0m\u001b[0;34m,\u001b[0m\u001b[0;36m500\u001b[0m\u001b[0;34m,\u001b[0m\u001b[0;36m0.001\u001b[0m\u001b[0;34m)\u001b[0m\u001b[0;34m\u001b[0m\u001b[0;34m\u001b[0m\u001b[0m\n\u001b[0m",
            "\u001b[0;32m<ipython-input-4-b3d0fe2c19a8>\u001b[0m in \u001b[0;36mAlgIterativo\u001b[0;34m(ValorActual, Iteraciones, ErrorMinimo)\u001b[0m\n\u001b[1;32m      8\u001b[0m   \u001b[0;32mwhile\u001b[0m\u001b[0;34m(\u001b[0m\u001b[0;32mTrue\u001b[0m\u001b[0;34m)\u001b[0m\u001b[0;34m:\u001b[0m\u001b[0;34m\u001b[0m\u001b[0;34m\u001b[0m\u001b[0m\n\u001b[1;32m      9\u001b[0m     \u001b[0mvalorAnterior\u001b[0m\u001b[0;34m=\u001b[0m\u001b[0mValorActual\u001b[0m\u001b[0;34m\u001b[0m\u001b[0;34m\u001b[0m\u001b[0m\n\u001b[0;32m---> 10\u001b[0;31m     \u001b[0mValorActual\u001b[0m\u001b[0;34m=\u001b[0m \u001b[0mf\u001b[0m\u001b[0;34m(\u001b[0m\u001b[0mValorActual\u001b[0m\u001b[0;34m)\u001b[0m\u001b[0;34m\u001b[0m\u001b[0;34m\u001b[0m\u001b[0m\n\u001b[0m\u001b[1;32m     11\u001b[0m     \u001b[0mcontadorIteraciones\u001b[0m\u001b[0;34m=\u001b[0m\u001b[0mcontadorIteraciones\u001b[0m\u001b[0;34m+\u001b[0m\u001b[0;36m1\u001b[0m\u001b[0;34m\u001b[0m\u001b[0;34m\u001b[0m\u001b[0m\n\u001b[1;32m     12\u001b[0m     \u001b[0merrorActual\u001b[0m\u001b[0;34m=\u001b[0m\u001b[0mabs\u001b[0m\u001b[0;34m(\u001b[0m\u001b[0;34m(\u001b[0m\u001b[0mvalorAnterior\u001b[0m\u001b[0;34m-\u001b[0m\u001b[0mValorActual\u001b[0m\u001b[0;34m)\u001b[0m\u001b[0;34m/\u001b[0m\u001b[0mValorActual\u001b[0m\u001b[0;34m)\u001b[0m\u001b[0;34m\u001b[0m\u001b[0;34m\u001b[0m\u001b[0m\n",
            "\u001b[0;31mUnboundLocalError\u001b[0m: local variable 'f' referenced before assignment"
          ]
        }
      ]
    },
    {
      "cell_type": "code",
      "metadata": {
        "id": "GyDQ5Nuvvdn4"
      },
      "source": [
        "import math\n",
        " \n",
        "def AlgIterativo(valorActual,iteracionMaxima,errorMinimo):\n",
        "  \n",
        "  valorAnterior=0\n",
        "  contadorIteraciones=0\n",
        "  errorActual=0\n",
        "  \n",
        "  while(True):\n",
        "    valorAnterior=valorActual\n",
        "    valorActual=f(valorActual)\n",
        "    contadorIteraciones=contadorIteraciones+1\n",
        "    errorActual=abs((valorAnterior-valorActual)/valorActual)\n",
        "    print(\"iteracion \"+ str(contadorIteraciones) + \": \" + str(valorActual))   \n",
        "  \n",
        " \n",
        "    if (errorActual<=errorMinimo):\n",
        "      print(\"Iteracion\" + str(contadorIteraciones) + \": \" + str(valorActual))\n",
        "      return valorActual\n",
        " \n",
        "    elif (contadorIteraciones==iteracionMaxima):\n",
        "     print(\"se alcanzaron las iteraciones maximas\")\n",
        "     break"
      ],
      "execution_count": null,
      "outputs": []
    },
    {
      "cell_type": "code",
      "metadata": {
        "colab": {
          "base_uri": "https://localhost:8080/",
          "height": 282
        },
        "id": "yhSK1_-Swbh1",
        "outputId": "60d0b038-e263-44f4-ed76-a3b16754b7e2"
      },
      "source": [
        "AlgIterativo(0,500,0.001)"
      ],
      "execution_count": null,
      "outputs": [
        {
          "output_type": "error",
          "ename": "NameError",
          "evalue": "ignored",
          "traceback": [
            "\u001b[0;31m---------------------------------------------------------------------------\u001b[0m",
            "\u001b[0;31mNameError\u001b[0m                                 Traceback (most recent call last)",
            "\u001b[0;32m<ipython-input-11-da56768da7bd>\u001b[0m in \u001b[0;36m<module>\u001b[0;34m()\u001b[0m\n\u001b[0;32m----> 1\u001b[0;31m \u001b[0mAlgIterativo\u001b[0m\u001b[0;34m(\u001b[0m\u001b[0;36m0\u001b[0m\u001b[0;34m,\u001b[0m\u001b[0;36m500\u001b[0m\u001b[0;34m,\u001b[0m\u001b[0;36m0.001\u001b[0m\u001b[0;34m)\u001b[0m\u001b[0;34m\u001b[0m\u001b[0;34m\u001b[0m\u001b[0m\n\u001b[0m",
            "\u001b[0;32m<ipython-input-10-6fed8fee6a6a>\u001b[0m in \u001b[0;36mAlgIterativo\u001b[0;34m(valorActual, iteracionMaxima, errorMinimo)\u001b[0m\n\u001b[1;32m      9\u001b[0m   \u001b[0;32mwhile\u001b[0m\u001b[0;34m(\u001b[0m\u001b[0;32mTrue\u001b[0m\u001b[0;34m)\u001b[0m\u001b[0;34m:\u001b[0m\u001b[0;34m\u001b[0m\u001b[0;34m\u001b[0m\u001b[0m\n\u001b[1;32m     10\u001b[0m     \u001b[0mvalorAnterior\u001b[0m\u001b[0;34m=\u001b[0m\u001b[0mvalorActual\u001b[0m\u001b[0;34m\u001b[0m\u001b[0;34m\u001b[0m\u001b[0m\n\u001b[0;32m---> 11\u001b[0;31m     \u001b[0mvalorActual\u001b[0m\u001b[0;34m=\u001b[0m\u001b[0mf\u001b[0m\u001b[0;34m(\u001b[0m\u001b[0mvalorActual\u001b[0m\u001b[0;34m)\u001b[0m\u001b[0;34m\u001b[0m\u001b[0;34m\u001b[0m\u001b[0m\n\u001b[0m\u001b[1;32m     12\u001b[0m     \u001b[0mcontadorIteraciones\u001b[0m\u001b[0;34m=\u001b[0m\u001b[0mcontadorIteraciones\u001b[0m\u001b[0;34m+\u001b[0m\u001b[0;36m1\u001b[0m\u001b[0;34m\u001b[0m\u001b[0;34m\u001b[0m\u001b[0m\n\u001b[1;32m     13\u001b[0m     \u001b[0merrorActual\u001b[0m\u001b[0;34m=\u001b[0m\u001b[0mabs\u001b[0m\u001b[0;34m(\u001b[0m\u001b[0;34m(\u001b[0m\u001b[0mvalorAnterior\u001b[0m\u001b[0;34m-\u001b[0m\u001b[0mvalorActual\u001b[0m\u001b[0;34m)\u001b[0m\u001b[0;34m/\u001b[0m\u001b[0mvalorActual\u001b[0m\u001b[0;34m)\u001b[0m\u001b[0;34m\u001b[0m\u001b[0;34m\u001b[0m\u001b[0m\n",
            "\u001b[0;31mNameError\u001b[0m: name 'f' is not defined"
          ]
        }
      ]
    },
    {
      "cell_type": "code",
      "metadata": {
        "id": "cHjSgHd8vhjL"
      },
      "source": [
        ""
      ],
      "execution_count": null,
      "outputs": []
    },
    {
      "cell_type": "code",
      "metadata": {
        "colab": {
          "base_uri": "https://localhost:8080/",
          "height": 265
        },
        "id": "T32EUTEUwVlq",
        "outputId": "4eea98bc-d607-443f-d8dc-1d19f08d571f"
      },
      "source": [
        "import numpy as np\n",
        "\n",
        "import matplotlib.pyplot as plt\n",
        "\n",
        "\n",
        "\n",
        "N = 50\n",
        "\n",
        "x = np.random.rand(N)\n",
        "\n",
        "y = np.random.rand(N)\n",
        "\n",
        "colors = np.random.rand(N)\n",
        "\n",
        "area = (30 * np.random.rand(N))**2 # 0 to 15 point radii\n",
        "\n",
        "\n",
        "\n",
        "plt.scatter(x, y, s=area, c=colors, alpha=0.8)\n",
        "\n",
        "plt.show()"
      ],
      "execution_count": null,
      "outputs": [
        {
          "output_type": "display_data",
          "data": {
            "image/png": "[encoded data removed]",
            "text/plain": [
              "<Figure size 432x288 with 1 Axes>"
            ]
          },
          "metadata": {
            "needs_background": "light"
          }
        }
      ]
    },
    {
      "cell_type": "code",
      "metadata": {
        "id": "sjso6LCy2P5o",
        "colab": {
          "base_uri": "https://localhost:8080/",
          "height": 231
        },
        "outputId": "d4660bef-f59f-412d-f0d9-a4d432baf921"
      },
      "source": [
        "from sympy import *\n",
        "import matplotlib.pyplot as plt\n",
        "import numpy as np\n",
        "\n",
        "x_0=0\n",
        "orden=4\n",
        "step=1\n",
        "x,h=symbols('x h')\n",
        "approx=[]\n",
        "term=[]\n",
        "\n",
        "f=sympify(\"exp(x)\")\n",
        "x1=np.arange(0.5,0.2)\n",
        "\n",
        "def funcion (fun, var, val):\n",
        "  return fun. subs (var, val)\n",
        "\n",
        "for n in range(orden+1):\n",
        "  differential=diff(f,x,n)\n",
        "  approx.append(differential.subs(x,x_0)*step**(n)/factorial(n))\n",
        "  terms.append(\"+(\"+str(differential.subs(x,x_0))+ \"*h**\" + str(n) +\")\"+\"/\"+\"factorial(\"+str(n)+\")\")  \n",
        "  y=[funcion(sympify(''.join(terms)),h,n) for n in x1]\n",
        "\n",
        "  plt.plot(x1,y,x1,np.exp(x1))\n",
        "  plt.show()\n",
        "\n",
        "  serieTxt=sympify(''.joins(terms))\n",
        "  print(serieTxt)\n",
        "\n",
        "\n",
        "  #approx.append(differential.subs(x,x_0)*step**(n)/factorial(n))\n",
        "\n",
        "  print(approx)\n",
        "\n",
        "\n",
        "\n",
        "\n",
        "\n"
      ],
      "execution_count": null,
      "outputs": [
        {
          "output_type": "error",
          "ename": "NameError",
          "evalue": "ignored",
          "traceback": [
            "\u001b[0;31m---------------------------------------------------------------------------\u001b[0m",
            "\u001b[0;31mNameError\u001b[0m                                 Traceback (most recent call last)",
            "\u001b[0;32m<ipython-input-8-4159816bf61b>\u001b[0m in \u001b[0;36m<module>\u001b[0;34m()\u001b[0m\n\u001b[1;32m     19\u001b[0m   \u001b[0mdifferential\u001b[0m\u001b[0;34m=\u001b[0m\u001b[0mdiff\u001b[0m\u001b[0;34m(\u001b[0m\u001b[0mf\u001b[0m\u001b[0;34m,\u001b[0m\u001b[0mx\u001b[0m\u001b[0;34m,\u001b[0m\u001b[0mn\u001b[0m\u001b[0;34m)\u001b[0m\u001b[0;34m\u001b[0m\u001b[0;34m\u001b[0m\u001b[0m\n\u001b[1;32m     20\u001b[0m   \u001b[0mapprox\u001b[0m\u001b[0;34m.\u001b[0m\u001b[0mappend\u001b[0m\u001b[0;34m(\u001b[0m\u001b[0mdifferential\u001b[0m\u001b[0;34m.\u001b[0m\u001b[0msubs\u001b[0m\u001b[0;34m(\u001b[0m\u001b[0mx\u001b[0m\u001b[0;34m,\u001b[0m\u001b[0mx_0\u001b[0m\u001b[0;34m)\u001b[0m\u001b[0;34m*\u001b[0m\u001b[0mstep\u001b[0m\u001b[0;34m**\u001b[0m\u001b[0;34m(\u001b[0m\u001b[0mn\u001b[0m\u001b[0;34m)\u001b[0m\u001b[0;34m/\u001b[0m\u001b[0mfactorial\u001b[0m\u001b[0;34m(\u001b[0m\u001b[0mn\u001b[0m\u001b[0;34m)\u001b[0m\u001b[0;34m)\u001b[0m\u001b[0;34m\u001b[0m\u001b[0;34m\u001b[0m\u001b[0m\n\u001b[0;32m---> 21\u001b[0;31m   \u001b[0mterms\u001b[0m\u001b[0;34m.\u001b[0m\u001b[0mappend\u001b[0m\u001b[0;34m(\u001b[0m\u001b[0;34m\"+(\"\u001b[0m\u001b[0;34m+\u001b[0m\u001b[0mstr\u001b[0m\u001b[0;34m(\u001b[0m\u001b[0mdifferential\u001b[0m\u001b[0;34m.\u001b[0m\u001b[0msubs\u001b[0m\u001b[0;34m(\u001b[0m\u001b[0mx\u001b[0m\u001b[0;34m,\u001b[0m\u001b[0mx_0\u001b[0m\u001b[0;34m)\u001b[0m\u001b[0;34m)\u001b[0m\u001b[0;34m+\u001b[0m \u001b[0;34m\"*h**\"\u001b[0m \u001b[0;34m+\u001b[0m \u001b[0mstr\u001b[0m\u001b[0;34m(\u001b[0m\u001b[0mn\u001b[0m\u001b[0;34m)\u001b[0m \u001b[0;34m+\u001b[0m\u001b[0;34m\")\"\u001b[0m\u001b[0;34m+\u001b[0m\u001b[0;34m\"/\"\u001b[0m\u001b[0;34m+\u001b[0m\u001b[0;34m\"factorial(\"\u001b[0m\u001b[0;34m+\u001b[0m\u001b[0mstr\u001b[0m\u001b[0;34m(\u001b[0m\u001b[0mn\u001b[0m\u001b[0;34m)\u001b[0m\u001b[0;34m+\u001b[0m\u001b[0;34m\")\"\u001b[0m\u001b[0;34m)\u001b[0m\u001b[0;34m\u001b[0m\u001b[0;34m\u001b[0m\u001b[0m\n\u001b[0m\u001b[1;32m     22\u001b[0m   \u001b[0my\u001b[0m\u001b[0;34m=\u001b[0m\u001b[0;34m[\u001b[0m\u001b[0mfuncion\u001b[0m\u001b[0;34m(\u001b[0m\u001b[0msympify\u001b[0m\u001b[0;34m(\u001b[0m\u001b[0;34m''\u001b[0m\u001b[0;34m.\u001b[0m\u001b[0mjoin\u001b[0m\u001b[0;34m(\u001b[0m\u001b[0mterms\u001b[0m\u001b[0;34m)\u001b[0m\u001b[0;34m)\u001b[0m\u001b[0;34m,\u001b[0m\u001b[0mh\u001b[0m\u001b[0;34m,\u001b[0m\u001b[0mn\u001b[0m\u001b[0;34m)\u001b[0m \u001b[0;32mfor\u001b[0m \u001b[0mn\u001b[0m \u001b[0;32min\u001b[0m \u001b[0mx1\u001b[0m\u001b[0;34m]\u001b[0m\u001b[0;34m\u001b[0m\u001b[0;34m\u001b[0m\u001b[0m\n\u001b[1;32m     23\u001b[0m \u001b[0;34m\u001b[0m\u001b[0m\n",
            "\u001b[0;31mNameError\u001b[0m: name 'terms' is not defined"
          ]
        }
      ]
    },
    {
      "cell_type": "markdown",
      "metadata": {
        "id": "tMAzTixQHyeC"
      },
      "source": [
        "# Sección nueva"
      ]
    },
    {
      "cell_type": "code",
      "metadata": {
        "id": "Ip0Mmwu-2QPB"
      },
      "source": [
        ""
      ],
      "execution_count": null,
      "outputs": []
    }
  ]
}