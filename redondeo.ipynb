{
  "nbformat": 4,
  "nbformat_minor": 0,
  "metadata": {
    "colab": {
      "name": "redondeo.ipynb",
      "provenance": [],
      "include_colab_link": true
    },
    "kernelspec": {
      "name": "python3",
      "display_name": "Python 3"
    },
    "language_info": {
      "name": "python"
    }
  },
  "cells": [
    {
      "cell_type": "markdown",
      "metadata": {
        "id": "view-in-github",
        "colab_type": "text"
      },
      "source": [
        "<a href=\"https://colab.research.google.com/github/aldoxd82/optimizacion1D/blob/master/redondeo.ipynb\" target=\"_parent\"><img src=\"https://colab.research.google.com/assets/colab-badge.svg\" alt=\"Open In Colab\"/></a>"
      ]
    },
    {
      "cell_type": "code",
      "metadata": {
        "colab": {
          "base_uri": "https://localhost:8080/"
        },
        "id": "YDVIh1icnUP4",
        "outputId": "16df3dcb-a27c-4448-a92f-6b98a9ece6de"
      },
      "source": [
        "numero_entero = int('1101101', 2) #donde el 2 indica la base en la que se encuentra el número a convertir\n",
        "\n",
        "numero_fraccionario = int('1011', 2) \n",
        "print(numero_entero,numero_fraccionario)"
      ],
      "execution_count": null,
      "outputs": [
        {
          "output_type": "stream",
          "name": "stdout",
          "text": [
            "109 11\n"
          ]
        }
      ]
    },
    {
      "cell_type": "code",
      "metadata": {
        "id": "gUvKgJhKjsN9"
      },
      "source": [
        "import math\n",
        "\n",
        "def decimal_a_cualquier_base(decimal, base, digitos):\n",
        "    parte_fraccionaria, parte_entera = math.modf(decimal)\n",
        "    parte_entera = int()\n",
        "    cadena_parte_entera = \"\"\n",
        "    cadena_parte_fraccionaria = \"\"\n",
        "    while parte_entera > 0:\n",
        "        residuo = parte_entera % base\n",
        "        digito = digitos[int(residuo)]\n",
        "        cadena_parte_entera += digito\n",
        "        parte_entera = int(parte_entera/base)\n",
        "    # Invertir cadena de parte entera\n",
        "    # https://parzibyte.me/blog/2019/06/26/invertir-cadena-python/\n",
        "    cadena_parte_entera = cadena_parte_entera[::-1]\n",
        "    sobrante = None\n",
        "   \n",
        "    while True:\n",
        "        resultado = parte_fraccionaria*base\n",
        "        parte_fraccionaria, sobrante = math.modf(resultado)\n",
        "        digito = digitos[int(sobrante)]\n",
        "        cadena_parte_fraccionaria += digito\n",
        "        if sobrante == 0:\n",
        "            break\n",
        "    return cadena_parte_entera + \".\" + cadena_parte_fraccionaria\n"
      ],
      "execution_count": null,
      "outputs": []
    },
    {
      "cell_type": "code",
      "metadata": {
        "colab": {
          "base_uri": "https://localhost:8080/"
        },
        "id": "YUDd6MQNlyVs",
        "outputId": "e9de2f13-db06-4c8d-9ca7-2d2240bbe7f4"
      },
      "source": [
        "decimal = 63.125\n",
        "en_binario = decimal_a_cualquier_base(decimal, 2, \"01\")\n",
        "en_octal = decimal_a_cualquier_base(decimal, 8, \"01234567\")\n",
        "en_hexadecimal = decimal_a_cualquier_base(decimal, 16, \"0123456789ABCDEF\")\n",
        "print(f\"El decimal {decimal} es {en_binario} en binario, {en_octal} en octal y {en_hexadecimal} en hexadecimal\")\n"
      ],
      "execution_count": null,
      "outputs": [
        {
          "output_type": "stream",
          "name": "stdout",
          "text": [
            "El decimal 63.125 es 111111.0 en binario, 77.10 en octal y 3F.20 en hexadecimal\n"
          ]
        }
      ]
    },
    {
      "cell_type": "code",
      "metadata": {
        "colab": {
          "base_uri": "https://localhost:8080/"
        },
        "id": "bji9uuPKmmWW",
        "outputId": "ab0fe9f2-abbc-4423-a42e-70a279734a0e"
      },
      "source": [
        "import numpy as np\n",
        "import matplotlib.pyplot as plt\n",
        "\n",
        "numero=20\n",
        "\n",
        "print(bin(numero))\n",
        "\n",
        "print(format(numero, '0b'))\n",
        "print(type(format(numero, '0b')))"
      ],
      "execution_count": null,
      "outputs": [
        {
          "output_type": "stream",
          "name": "stdout",
          "text": [
            "0b10100\n",
            "10100\n",
            "<class 'str'>\n"
          ]
        }
      ]
    },
    {
      "cell_type": "code",
      "metadata": {
        "colab": {
          "base_uri": "https://localhost:8080/"
        },
        "id": "bUf-7aF5mmlK",
        "outputId": "215a3405-02cb-419a-915b-a0426324c96d"
      },
      "source": [
        "def deriv(e):\n",
        "  return(g(e^x-1))/x\n",
        "def g(x):\n",
        "  return x \n",
        "import math\n",
        "import numpy as np\n",
        "from tabulate import tabulate\n",
        "headers = [\"x\",\"g(x)\"]\n",
        "data = []\n",
        "for i in np.arange(-1,-2,-15,dtype=np.float):\n",
        "  x=pow(10,i)\n",
        "  data.append([x,g(x)])\n",
        "print(tabulate(data,headers,floatfmt=\".18\"))\n"
      ],
      "execution_count": null,
      "outputs": [
        {
          "output_type": "stream",
          "name": "stdout",
          "text": [
            "                   x                  g(x)\n",
            "--------------------  --------------------\n",
            "0.100000000000000006  0.100000000000000006\n"
          ]
        }
      ]
    }
  ]
}