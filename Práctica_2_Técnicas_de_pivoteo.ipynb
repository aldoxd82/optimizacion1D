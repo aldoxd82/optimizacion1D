{
  "nbformat": 4,
  "nbformat_minor": 0,
  "metadata": {
    "colab": {
      "name": "Práctica 2. Técnicas de pivoteo",
      "provenance": [],
      "include_colab_link": true
    },
    "kernelspec": {
      "name": "python3",
      "display_name": "Python 3"
    },
    "language_info": {
      "name": "python"
    }
  },
  "cells": [
    {
      "cell_type": "markdown",
      "metadata": {
        "id": "view-in-github",
        "colab_type": "text"
      },
      "source": [
        "<a href=\"https://colab.research.google.com/github/aldoxd82/optimizacion1D/blob/master/Pr%C3%A1ctica_2_T%C3%A9cnicas_de_pivoteo.ipynb\" target=\"_parent\"><img src=\"https://colab.research.google.com/assets/colab-badge.svg\" alt=\"Open In Colab\"/></a>"
      ]
    },
    {
      "cell_type": "code",
      "metadata": {
        "colab": {
          "base_uri": "https://localhost:8080/"
        },
        "id": "i5SJlgISj7C7",
        "outputId": "fb867ded-92fd-4187-de04-a4423f2bf662"
      },
      "source": [
        "# Pivoteo parcial por filas\n",
        "# Solución a Sistemas de Ecuaciones\n",
        "\n",
        "import numpy as np\n",
        "\n",
        "# INGRESO\n",
        "A = np.array([[0.003000,59.14],\n",
        "              [5.291,-61.30]])\n",
        "\n",
        "B = np.array([[59.27],\n",
        "              [46.78]])\n",
        "\n",
        "# PROCEDIMIENTO\n",
        "# Matriz aumentada\n",
        "AB  = np.concatenate((A,B),axis=1)\n",
        "AB0 = np.copy(AB)\n",
        "\n",
        "# Pivoteo parcial por filas\n",
        "tamano = np.shape(AB)\n",
        "n = tamano[0]\n",
        "m = tamano[1]\n",
        "\n",
        "# Para cada fila en AB\n",
        "for i in range(0,n-1,1):\n",
        "    # columna desde diagonal i en adelante\n",
        "    columna = abs(AB[i:,i])\n",
        "    dondemax = np.argmax(columna)\n",
        "    \n",
        "    # dondemax no está en diagonal\n",
        "    if (dondemax !=0):\n",
        "        # intercambia filas\n",
        "        temporal = np.copy(AB[i,:])\n",
        "        AB[i,:]  = AB[dondemax+i,:]\n",
        "        AB[dondemax+i,:] = temporal\n",
        "\n",
        "# SALIDA\n",
        "print('Matriz aumentada:')\n",
        "print(AB0)\n",
        "print('Pivoteo parcial por filas')\n",
        "print(AB)"
      ],
      "execution_count": null,
      "outputs": [
        {
          "output_type": "stream",
          "name": "stdout",
          "text": [
            "Matriz aumentada:\n",
            "[[ 3.000e-03  5.914e+01  5.927e+01]\n",
            " [ 5.291e+00 -6.130e+01  4.678e+01]]\n",
            "Pivoteo parcial por filas\n",
            "[[ 5.291e+00 -6.130e+01  4.678e+01]\n",
            " [ 3.000e-03  5.914e+01  5.927e+01]]\n"
          ]
        }
      ]
    }
  ]
}