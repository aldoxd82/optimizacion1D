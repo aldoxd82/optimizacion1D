{
  "nbformat": 4,
  "nbformat_minor": 0,
  "metadata": {
    "colab": {
      "name": "Programa 5. Regla falsa",
      "provenance": [],
      "include_colab_link": true
    },
    "kernelspec": {
      "name": "python3",
      "display_name": "Python 3"
    },
    "language_info": {
      "name": "python"
    }
  },
  "cells": [
    {
      "cell_type": "markdown",
      "metadata": {
        "id": "view-in-github",
        "colab_type": "text"
      },
      "source": [
        "<a href=\"https://colab.research.google.com/github/aldoxd82/optimizacion1D/blob/master/Programa_5_Regla_falsa.ipynb\" target=\"_parent\"><img src=\"https://colab.research.google.com/assets/colab-badge.svg\" alt=\"Open In Colab\"/></a>"
      ]
    },
    {
      "cell_type": "markdown",
      "metadata": {
        "id": "YQyZ7yWnOWDr"
      },
      "source": [
        "Importamos las libreria que vamos a utilizar"
      ]
    },
    {
      "cell_type": "code",
      "metadata": {
        "id": "sLJYbC4UOLcj"
      },
      "source": [
        "import numpy\n",
        "import math"
      ],
      "execution_count": null,
      "outputs": []
    },
    {
      "cell_type": "markdown",
      "metadata": {
        "id": "99y4xT_1Obzw"
      },
      "source": [
        "Procedemos a introducir el codigo del programa"
      ]
    },
    {
      "cell_type": "code",
      "metadata": {
        "colab": {
          "base_uri": "https://localhost:8080/"
        },
        "id": "nxWdZ-GBOiwJ",
        "outputId": "ddfcaa44-d234-4685-8aea-9ab24bb8f573"
      },
      "source": [
        "print('Ingrese \"1\" para el metodo de biseccion,')\n",
        "print('o,ingrese \"2\" para el metodo de la regla falsa.')\n",
        "m=int(input('¿Con que metodo desea proceder?:'))\n",
        "n=int(input('Ingrese el numero de cifras significativas ;'))\n",
        "def funcion(x):\n",
        "  return(x**3)+(2*x**2)+(10*x)-20\n",
        "Es=0.5*10**(2-n)\n",
        "i=0\n",
        "a=int(input('Ingrese el limite inferior:' ))\n",
        "b=int(input('Ingrese el limite superior:' ))\n",
        "h=int((math.log(b-a)-math.log(Es))/math.log(2))"
      ],
      "execution_count": null,
      "outputs": [
        {
          "name": "stdout",
          "output_type": "stream",
          "text": [
            "Ingrese \"1\" para el metodo de biseccion,\n",
            "o,ingrese \"2\" para el metodo de la regla falsa.\n",
            "¿Con que metodo desea proceder?:1\n",
            "Ingrese el numero de cifras significativas ;4\n",
            "Ingrese el limite inferior:-2\n",
            "Ingrese el limite superior:4\n"
          ]
        }
      ]
    },
    {
      "cell_type": "markdown",
      "metadata": {
        "id": "CS9rdnl1KuTk"
      },
      "source": [
        "Regla Falsa"
      ]
    },
    {
      "cell_type": "code",
      "metadata": {
        "id": "5_7FAfJDK0To"
      },
      "source": [
        "if m==2:\n",
        "  for i in range(h):\n",
        "    funa=funcion(a)\n",
        "    funb=funcion(b)\n",
        "    c=((a*funb)-(b*funa)/(funb-funa))\n",
        "    func=funcion(c)\n",
        "    \n",
        "    print(i,\"       \",a,\"     \",b,\"   \",c,\"     \",funa,\"          \",funb,\"     \",func,\"     \")\n",
        "    if func==0:\n",
        "      print('La raiz de la funcion es :',c)\n",
        "      break\n",
        "    elif funa*func<0:\n",
        "      b=c \n",
        "    else:\n",
        "      a=c\n"
      ],
      "execution_count": null,
      "outputs": []
    },
    {
      "cell_type": "markdown",
      "metadata": {
        "id": "X_AZ-D7MQN_b"
      },
      "source": [
        "Metodo de biseccion"
      ]
    },
    {
      "cell_type": "code",
      "metadata": {
        "colab": {
          "base_uri": "https://localhost:8080/"
        },
        "id": "cuL9fEcGTbdK",
        "outputId": "9632ac09-4925-48bf-bf5e-8e3e5e5e2336"
      },
      "source": [
        "if m==1:\n",
        "  for i in range(h):\n",
        "    c=(a+b)/2\n",
        "    funa=funcion(a)\n",
        "    funb=funcion(b)\n",
        "    func=funcion(c)\n",
        "    print(i,\"       \",a,\"     \",b,\"   \",c,\"     \",funa,\"          \",funb,\"     \",func,\"     \")\n",
        "    if func==0:\n",
        "      print('La raiz de la funcion es :',c)\n",
        "      break\n",
        "    elif funa*func<0:\n",
        "     b=c \n",
        "    else:\n",
        "     a=c"
      ],
      "execution_count": null,
      "outputs": [
        {
          "output_type": "stream",
          "name": "stdout",
          "text": [
            "0         1.3008821675625697       8.487794458846847e+85     4.2438972294234234e+85       -1.4051138713245024            6.114832460052191e+257       7.643540575065239e+256      \n",
            "1         1.3008821675625697       4.2438972294234234e+85     2.1219486147117117e+85       -1.4051138713245024            7.643540575065239e+256       9.554425718831549e+255      \n",
            "2         1.3008821675625697       2.1219486147117117e+85     1.0609743073558559e+85       -1.4051138713245024            9.554425718831549e+255       1.1943032148539436e+255      \n",
            "3         1.3008821675625697       1.0609743073558559e+85     5.304871536779279e+84       -1.4051138713245024            1.1943032148539436e+255       1.4928790185674295e+254      \n",
            "4         1.3008821675625697       5.304871536779279e+84     2.6524357683896396e+84       -1.4051138713245024            1.4928790185674295e+254       1.866098773209287e+253      \n",
            "5         1.3008821675625697       2.6524357683896396e+84     1.3262178841948198e+84       -1.4051138713245024            1.866098773209287e+253       2.3326234665116086e+252      \n",
            "6         1.3008821675625697       1.3262178841948198e+84     6.631089420974099e+83       -1.4051138713245024            2.3326234665116086e+252       2.915779333139511e+251      \n",
            "7         1.3008821675625697       6.631089420974099e+83     3.3155447104870495e+83       -1.4051138713245024            2.915779333139511e+251       3.6447241664243885e+250      \n",
            "8         1.3008821675625697       3.3155447104870495e+83     1.6577723552435248e+83       -1.4051138713245024            3.6447241664243885e+250       4.555905208030486e+249      \n",
            "9         1.3008821675625697       1.6577723552435248e+83     8.288861776217624e+82       -1.4051138713245024            4.555905208030486e+249       5.694881510038107e+248      \n"
          ]
        }
      ]
    }
  ]
}