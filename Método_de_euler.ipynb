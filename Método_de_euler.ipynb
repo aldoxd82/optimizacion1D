{
  "nbformat": 4,
  "nbformat_minor": 0,
  "metadata": {
    "colab": {
      "name": "Método de euler.ipynb",
      "provenance": [],
      "collapsed_sections": [],
      "include_colab_link": true
    },
    "kernelspec": {
      "name": "python3",
      "display_name": "Python 3"
    },
    "language_info": {
      "name": "python"
    }
  },
  "cells": [
    {
      "cell_type": "markdown",
      "metadata": {
        "id": "view-in-github",
        "colab_type": "text"
      },
      "source": [
        "<a href=\"https://colab.research.google.com/github/aldoxd82/optimizacion1D/blob/master/M%C3%A9todo_de_euler.ipynb\" target=\"_parent\"><img src=\"https://colab.research.google.com/assets/colab-badge.svg\" alt=\"Open In Colab\"/></a>"
      ]
    },
    {
      "cell_type": "code",
      "metadata": {
        "id": "8_RHm4m5e36A"
      },
      "source": [
        "import math\n",
        "import matplotlib.pyplot as plt\n",
        "import numpy as np\n",
        "\n",
        "def AlgEuler(vInicial,lInf,lSup,paso):\n",
        "  valorAnterior=0\n",
        "  contadorIteraciones=0\n",
        "  contadorPaso=0\n",
        "  iteracionMaxima=int((lSup-lInf)/paso)\n",
        "\n",
        "  vectorX=[]\n",
        "  vectorY=[]\n",
        "\n",
        "  while contadorIteraciones<iteracionMaxima :\n",
        "    valorAnterior=vInicial\n",
        "    vInicial=f(vInicial,paso)\n",
        "    contadorIteraciones=contadorIteraciones+1\n",
        "    contadorPaso=contadorPaso+0.1\n",
        "    vectorX.append(contadorPaso)\n",
        "    vectorY.append(vInicial)\n",
        "    print(\"Iteracion \" + str(contadorIteraciones) + \": \" + str(vInicial))\n",
        "\n",
        "  grafica(vectorX,vectorY)\n",
        "\n",
        "def f(x,paso) :\n",
        "  return x-0.2*x*paso\n",
        "\n",
        "def grafica(vectorX,vectorY) :\n",
        "\n",
        "  plt.figure(figsize=(9, 3))\n",
        "  plt.grid(True)\n",
        "  plt.subplot(211)\n",
        "  plt.plot(vectorX,vectorY,color=\"green\")\n",
        "  plt.ylabel('Aproximacion')\n",
        "  plt.xlabel('Iteraciones')\n",
        "\n",
        "  plt.subplot(212)\n",
        "  plt.yscale('log')\n",
        "  plt.grid(True)\n",
        "  plt.plot(vectorX,vectorY,color=\"green\")\n",
        "  plt.ylabel('Aproximacion')\n",
        "  plt.xlabel('Iteraciones')"
      ],
      "execution_count": null,
      "outputs": []
    },
    {
      "cell_type": "code",
      "metadata": {
        "colab": {
          "base_uri": "https://localhost:8080/",
          "height": 399
        },
        "id": "3x5daetQfCTD",
        "outputId": "4843dcc6-eecb-48b1-aef8-eb66fa8c222d"
      },
      "source": [
        "AlgEuler(10,0,1,0.1)"
      ],
      "execution_count": null,
      "outputs": [
        {
          "output_type": "stream",
          "name": "stdout",
          "text": [
            "Iteracion 1: 9.8\n",
            "Iteracion 2: 9.604000000000001\n",
            "Iteracion 3: 9.41192\n",
            "Iteracion 4: 9.2236816\n",
            "Iteracion 5: 9.039207968000001\n",
            "Iteracion 6: 8.858423808640001\n",
            "Iteracion 7: 8.6812553324672\n",
            "Iteracion 8: 8.507630225817856\n",
            "Iteracion 9: 8.337477621301499\n",
            "Iteracion 10: 8.17072806887547\n"
          ]
        },
        {
          "output_type": "display_data",
          "data": {
            "image/png": "[encoded data removed]",
            "text/plain": [
              "<Figure size 648x216 with 2 Axes>"
            ]
          },
          "metadata": {
            "needs_background": "light"
          }
        }
      ]
    }
  ]
}