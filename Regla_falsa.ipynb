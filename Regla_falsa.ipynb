{
  "nbformat": 4,
  "nbformat_minor": 0,
  "metadata": {
    "colab": {
      "name": "Regla falsa.ipynb",
      "provenance": [],
      "collapsed_sections": [],
      "include_colab_link": true
    },
    "kernelspec": {
      "name": "python3",
      "display_name": "Python 3"
    },
    "language_info": {
      "name": "python"
    }
  },
  "cells": [
    {
      "cell_type": "markdown",
      "metadata": {
        "id": "view-in-github",
        "colab_type": "text"
      },
      "source": [
        "<a href=\"https://colab.research.google.com/github/aldoxd82/optimizacion1D/blob/master/Regla_falsa.ipynb\" target=\"_parent\"><img src=\"https://colab.research.google.com/assets/colab-badge.svg\" alt=\"Open In Colab\"/></a>"
      ]
    },
    {
      "cell_type": "markdown",
      "metadata": {
        "id": "EimmZt3B1dnX"
      },
      "source": [
        "# *Regla falsa*\n"
      ]
    },
    {
      "cell_type": "code",
      "metadata": {
        "id": "suxOrl5zHkaX"
      },
      "source": [
        "\n",
        "from sympy import *\n",
        "import matplotlib.pyplot as plt\n",
        "\n",
        "def f(x):\n",
        "  return x**2-x-6\n",
        "\n",
        "def bisect(xl,xu,es,imax,xr):\n",
        "  iter=0\n",
        "  ea=0\n",
        "  while True:\n",
        "\n",
        "    xrold = xr\n",
        "    xr = (xl+xu)/2\n",
        "  \n",
        "    iter = iter+1\n",
        "    print (\"Iteracion: \"+str(iter)+ \"xr: \" +str(xr)+ \" ea: \"+ str(ea))\n",
        "    if (xr != 0):\n",
        "       ea= abs((xr-xrold)/xr)*100\n",
        "       test= f(xl)*f(xr)\n",
        "       if (test<0):\n",
        "         xu=xr\n",
        "       elif (test>0):\n",
        "           xl=xr\n",
        "           \n",
        "    else :\n",
        "      ea=0\n",
        "\n",
        "    if (ea<es or iter >= imax) :\n",
        "     \n",
        "     break"
      ],
      "execution_count": null,
      "outputs": []
    },
    {
      "cell_type": "code",
      "metadata": {
        "colab": {
          "base_uri": "https://localhost:8080/"
        },
        "id": "1loud0gD28nx",
        "outputId": "a3b516ec-b5c4-402a-9136-d8f9fb3da764"
      },
      "source": [
        "bisect(-3,3,0.1,200,10)"
      ],
      "execution_count": null,
      "outputs": [
        {
          "output_type": "stream",
          "name": "stdout",
          "text": [
            "Iteracion: 1xr: 0.0 ea: 0\n"
          ]
        }
      ]
    },
    {
      "cell_type": "code",
      "metadata": {
        "id": "Z0-UtoruBao6"
      },
      "source": [
        "from sympy import *\n",
        "import matplotlib.pyplot as plt\n",
        "\n",
        "def f(x):\n",
        "  return x**2-x-6\n",
        "\n",
        "def reglafalsa(xl,xu,es,imax):\n",
        "  iter=0\n",
        "  ea=0\n",
        "  xr = xl\n",
        "  while True:\n",
        "\n",
        "    xrold = xr\n",
        "    xr = xu-(f(xu)*(xl-xu))/(f(xl)-f(xu))\n",
        "  \n",
        "    iter = iter+1\n",
        "    print (\"Iteracion: \"+str(iter)+ \"\\n xr: \" +str(xr)+ \" ea: \"+ str(ea))\n",
        "    if (xr != 0):\n",
        "       ea= abs((xr-xrold)/xr)*100\n",
        "       test= f(xl)*f(xr)\n",
        "       if (test<0):\n",
        "         xu=xr\n",
        "       elif (test>0):\n",
        "           xl=xr\n",
        "           \n",
        "    else :\n",
        "      ea=0\n",
        "\n",
        "    if (ea<es or iter >= imax) :\n",
        "     \n",
        "     break"
      ],
      "execution_count": null,
      "outputs": []
    },
    {
      "cell_type": "code",
      "metadata": {
        "colab": {
          "base_uri": "https://localhost:8080/"
        },
        "id": "kcduxunJErB_",
        "outputId": "87c9f1bf-41f6-4e46-c79a-4d960366f6a4"
      },
      "source": [
        "reglafalsa(0,5,0.1,200)"
      ],
      "execution_count": null,
      "outputs": [
        {
          "output_type": "stream",
          "name": "stdout",
          "text": [
            "Iteracion: 1\n",
            " xr: 1.5 ea: 0\n",
            "Iteracion: 2\n",
            " xr: 2.4545454545454546 ea: 100.0\n",
            "Iteracion: 3\n",
            " xr: 2.830985915492958 ea: 38.88888888888889\n",
            "Iteracion: 4\n",
            " xr: 2.950515463917526 ea: 13.297150610583452\n",
            "Iteracion: 5\n",
            " xr: 2.985760901809552 ea: 4.0511412289249105\n",
            "Iteracion: 6\n",
            " xr: 2.9959233937746825 ea: 1.1804507812619915\n",
            "Iteracion: 7\n",
            " xr: 2.9988345766538997 ea: 0.3392106749540919\n"
          ]
        }
      ]
    },
    {
      "cell_type": "markdown",
      "metadata": {
        "id": "vgEGmFfHFw-S"
      },
      "source": [
        ""
      ]
    }
  ]
}