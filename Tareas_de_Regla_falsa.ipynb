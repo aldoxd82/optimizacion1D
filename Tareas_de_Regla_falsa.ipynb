{
  "nbformat": 4,
  "nbformat_minor": 0,
  "metadata": {
    "colab": {
      "name": "Tareas de Regla falsa.ipynb",
      "provenance": [],
      "collapsed_sections": [],
      "include_colab_link": true
    },
    "kernelspec": {
      "name": "python3",
      "display_name": "Python 3"
    },
    "language_info": {
      "name": "python"
    }
  },
  "cells": [
    {
      "cell_type": "markdown",
      "metadata": {
        "id": "view-in-github",
        "colab_type": "text"
      },
      "source": [
        "<a href=\"https://colab.research.google.com/github/aldoxd82/optimizacion1D/blob/master/Tareas_de_Regla_falsa.ipynb\" target=\"_parent\"><img src=\"https://colab.research.google.com/assets/colab-badge.svg\" alt=\"Open In Colab\"/></a>"
      ]
    },
    {
      "cell_type": "code",
      "metadata": {
        "id": "krJ9Fj6P32E6"
      },
      "source": [
        "from sympy import *\n",
        "import matplotlib.pyplot as plt\n",
        "import math"
      ],
      "execution_count": null,
      "outputs": []
    },
    {
      "cell_type": "markdown",
      "metadata": {
        "id": "pNF6N66b3-Al"
      },
      "source": [
        "# Ejercicio 5.1- Con el método de bisección.\n"
      ]
    },
    {
      "cell_type": "code",
      "metadata": {
        "id": "-h0Go1d_4FvK"
      },
      "source": [
        "def f(x):  #Definimos la funcion que vamos a analizar\n",
        "  return -0.5*x**2+2.5*x+4.5\n",
        "\n",
        "def bisect(xl,xu,es,imax,xr):\n",
        "  iter=0\n",
        "  ea=0\n",
        "  while True:\n",
        "\n",
        "    xrold = xr  \n",
        "    xr = (xl+xu)/2\n",
        "  \n",
        "    iter = iter+1\n",
        "    print(\"Iteracion: \" + str(iter)+ \"xr:  \"+str(xr))\n",
        "    if (xr != 0):\n",
        "       ea= abs((xr-xrold)/xr)*100\n",
        "       test= f(xl)*f(xr)\n",
        "       if (test<0):\n",
        "         xu=xr\n",
        "       elif (test>0):\n",
        "           xl=xr\n",
        "    else :\n",
        "      ea=0\n",
        "    if (ea<es or iter >= imax) :\n",
        "      break "
      ],
      "execution_count": null,
      "outputs": []
    },
    {
      "cell_type": "code",
      "metadata": {
        "id": "pflJwVCJ6ZiW",
        "colab": {
          "base_uri": "https://localhost:8080/"
        },
        "outputId": "529a3662-7b02-44b2-ed3a-32fab886e48d"
      },
      "source": [
        "bisect(5,10,0.1,3,1)"
      ],
      "execution_count": null,
      "outputs": [
        {
          "output_type": "stream",
          "name": "stdout",
          "text": [
            "Iteracion: 1xr:  7.5\n",
            "Iteracion: 2xr:  6.25\n",
            "Iteracion: 3xr:  6.875\n"
          ]
        }
      ]
    },
    {
      "cell_type": "markdown",
      "metadata": {
        "id": "UM3VWuyW7rvB"
      },
      "source": [
        "\n",
        "# Ejercicio 5.2-Con el método de bisección.\n"
      ]
    },
    {
      "cell_type": "code",
      "metadata": {
        "id": "FX_7juSy77H1"
      },
      "source": [
        "def f(x):  #Definimos la funcion que vamos a analizar\n",
        "  return 5*x**3-5*x**2+6*x-2\n",
        "\n",
        "def bisect(xl,xu,es,imax,xr):\n",
        "  iter=0\n",
        "  ea=0\n",
        "  while True:\n",
        "\n",
        "    xrold = xr  \n",
        "    xr = (xl+xu)/2\n",
        "  \n",
        "    iter = iter+1\n",
        "    print(\"Iteracion: \" + str(iter)+ \"xr:  \"+str(xr))\n",
        "    if (xr != 0):\n",
        "       ea= abs((xr-xrold)/xr)*100\n",
        "       test= f(xl)*f(xr)\n",
        "       if (test<0):\n",
        "         xu=xr\n",
        "       elif (test>0):\n",
        "           xl=xr\n",
        "    else :\n",
        "      ea=0\n",
        "    if (ea<es or iter >= imax) :\n",
        "      break "
      ],
      "execution_count": null,
      "outputs": []
    },
    {
      "cell_type": "code",
      "metadata": {
        "id": "YfY4gpDx-cQo",
        "colab": {
          "base_uri": "https://localhost:8080/"
        },
        "outputId": "09c95472-6404-44ac-9e4a-322bbeb2cdd1"
      },
      "source": [
        "bisect(0,1,0.1,200,1)"
      ],
      "execution_count": null,
      "outputs": [
        {
          "output_type": "stream",
          "name": "stdout",
          "text": [
            "Iteracion: 1xr:  0.5\n",
            "Iteracion: 2xr:  0.25\n",
            "Iteracion: 3xr:  0.375\n",
            "Iteracion: 4xr:  0.4375\n",
            "Iteracion: 5xr:  0.40625\n",
            "Iteracion: 6xr:  0.421875\n",
            "Iteracion: 7xr:  0.4140625\n",
            "Iteracion: 8xr:  0.41796875\n",
            "Iteracion: 9xr:  0.419921875\n",
            "Iteracion: 10xr:  0.4189453125\n",
            "Iteracion: 11xr:  0.41845703125\n",
            "Iteracion: 12xr:  0.418212890625\n"
          ]
        }
      ]
    },
    {
      "cell_type": "markdown",
      "metadata": {
        "id": "U1mGZ3YpBpZx"
      },
      "source": [
        "# Ejercicio 5.3 con 10% de error-Con el método de bisección.\n"
      ]
    },
    {
      "cell_type": "code",
      "metadata": {
        "id": "8nRZ--eNBryJ"
      },
      "source": [
        "def f(x):  #Definimos la funcion que vamos a analizar\n",
        "  return 0.7*x**5-8*x**4+44*x**3-90*x**2-25182*x\n",
        "\n",
        "def bisect(xl,xu,es,imax,xr):\n",
        "  iter=0\n",
        "  ea=0\n",
        "  while True:\n",
        "\n",
        "    xrold = xr  \n",
        "    xr = (xl+xu)/2\n",
        "  \n",
        "    iter = iter+1\n",
        "    print(\"Iteracion: \" + str(iter)+ \"xr:  \"+str(xr))\n",
        "    if (xr != 0):\n",
        "       ea= abs((xr-xrold)/xr)*100\n",
        "       test= f(xl)*f(xr)\n",
        "       if (test<0):\n",
        "         xu=xr\n",
        "       elif (test>0):\n",
        "           xl=xr\n",
        "    else :\n",
        "      ea=0\n",
        "    if (ea<es or iter >= imax) :\n",
        "      break "
      ],
      "execution_count": null,
      "outputs": []
    },
    {
      "cell_type": "code",
      "metadata": {
        "id": "o5izCHMSGZuu",
        "colab": {
          "base_uri": "https://localhost:8080/"
        },
        "outputId": "0277f6fe-47f3-43b0-9578-d2c7ea1e7173"
      },
      "source": [
        "bisect(0.5,1.0,0.1,200,1)"
      ],
      "execution_count": null,
      "outputs": [
        {
          "output_type": "stream",
          "name": "stdout",
          "text": [
            "Iteracion: 1xr:  0.75\n",
            "Iteracion: 2xr:  0.875\n",
            "Iteracion: 3xr:  0.9375\n",
            "Iteracion: 4xr:  0.96875\n",
            "Iteracion: 5xr:  0.984375\n",
            "Iteracion: 6xr:  0.9921875\n",
            "Iteracion: 7xr:  0.99609375\n",
            "Iteracion: 8xr:  0.998046875\n",
            "Iteracion: 9xr:  0.9990234375\n"
          ]
        }
      ]
    },
    {
      "cell_type": "markdown",
      "metadata": {
        "id": "NftBAGLyTE-v"
      },
      "source": [
        "# c) el mismo ejercicios pero con el metodo de falsa posicion con 0.2% de error. Con el metodo de falsa posición."
      ]
    },
    {
      "cell_type": "code",
      "metadata": {
        "id": "GVWcGdjoTbQO"
      },
      "source": [
        "def f(x):  #Definimos la funcion que vamos a analizar\n",
        "  return  0.7*x**5-8*x**4+44*x**3-90*x**2-25182*x\n",
        "\n",
        "def bisect(xl,xu,es,imax,xr):\n",
        "  iter=0\n",
        "  ea=0\n",
        "  while True:\n",
        "\n",
        "    xrold = xr  \n",
        "    xr = (xu-(f(xu)*(xl-xu))/(f(xl)-f(xu)))\n",
        "  \n",
        "    iter = iter+1\n",
        "    print(\"Iteracion: \" + str(iter)+ \"xr:  \"+str(xr))\n",
        "    if (xr != 0):\n",
        "       ea= abs((xr-xrold)/xr)*100\n",
        "       test= f(xl)*f(xr)\n",
        "       if (test<0):\n",
        "         xu=xr\n",
        "       elif (test>0):\n",
        "           xl=xr\n",
        "    else :\n",
        "      ea=0\n",
        "    if (ea<es or iter >= imax) :\n",
        "      break "
      ],
      "execution_count": null,
      "outputs": []
    },
    {
      "cell_type": "code",
      "metadata": {
        "id": "HkVzm8u3VJAn",
        "colab": {
          "base_uri": "https://localhost:8080/"
        },
        "outputId": "25762b51-09ea-409a-97b8-d6ba5a1d5b54"
      },
      "source": [
        "bisect(0.5,1.0,0.2,200,1)"
      ],
      "execution_count": null,
      "outputs": [
        {
          "output_type": "stream",
          "name": "stdout",
          "text": [
            "Iteracion: 1xr:  0.0007263803267993918\n",
            "Iteracion: 2xr:  1.5334333618444163e-06\n",
            "Iteracion: 3xr:  3.2387930115618246e-09\n",
            "Iteracion: 4xr:  6.840639166227902e-12\n",
            "Iteracion: 5xr:  1.4432899320127035e-14\n",
            "Iteracion: 6xr:  0.0\n"
          ]
        }
      ]
    },
    {
      "cell_type": "markdown",
      "metadata": {
        "id": "c54Ji3GOGyDH"
      },
      "source": [
        "# Ejercicio 5.4-Con el metodo de falsa posición."
      ]
    },
    {
      "cell_type": "code",
      "metadata": {
        "id": "OT-bMcjXGxla"
      },
      "source": [
        "def f(x):  #Definimos la funcion que vamos a analizar\n",
        "  return  -2.75*x**3+18*x**2-21*x-12\n",
        "\n",
        "def bisect(xl,xu,es,imax,xr):\n",
        "  iter=0\n",
        "  ea=0\n",
        "  while True:\n",
        "\n",
        "    xrold = xr  \n",
        "    xr = (xu-(f(xu)*(xl-xu))/(f(xl)-f(xu)))\n",
        "  \n",
        "    iter = iter+1\n",
        "    print(\"Iteracion: \" + str(iter)+ \"xr:  \"+str(xr))\n",
        "    if (xr != 0):\n",
        "       ea= abs((xr-xrold)/xr)*100\n",
        "       test= f(xl)*f(xr)\n",
        "       if (test<0):\n",
        "         xu=xr\n",
        "       elif (test>0):\n",
        "           xl=xr\n",
        "    else :\n",
        "      ea=0\n",
        "    if (ea<es or iter >= imax) :\n",
        "      break "
      ],
      "execution_count": null,
      "outputs": []
    },
    {
      "cell_type": "code",
      "metadata": {
        "id": "DNhMi0RIG26G",
        "colab": {
          "base_uri": "https://localhost:8080/"
        },
        "outputId": "634fd73b-33e3-47b7-cd86-a2cb8d75b9ce"
      },
      "source": [
        "bisect(-3,2,0.2,200,1)"
      ],
      "execution_count": null,
      "outputs": [
        {
          "output_type": "stream",
          "name": "stdout",
          "text": [
            "Iteracion: 1xr:  1.9313304721030042\n",
            "Iteracion: 2xr:  1.8431822326863472\n",
            "Iteracion: 3xr:  1.7315807252165274\n",
            "Iteracion: 4xr:  1.5929481927992533\n",
            "Iteracion: 5xr:  1.4251406611616155\n",
            "Iteracion: 6xr:  1.2289053772405705\n",
            "Iteracion: 7xr:  1.0093904449624724\n",
            "Iteracion: 8xr:  0.7768525954200959\n",
            "Iteracion: 9xr:  0.5455414791203577\n",
            "Iteracion: 10xr:  0.33051283001807796\n",
            "Iteracion: 11xr:  0.1436579546364773\n",
            "Iteracion: 12xr:  -0.00892580624884115\n",
            "Iteracion: 13xr:  -0.12705531144540338\n",
            "Iteracion: 14xr:  -0.21466957073031256\n",
            "Iteracion: 15xr:  -0.27755580309741007\n",
            "Iteracion: 16xr:  -0.3216206883709286\n",
            "Iteracion: 17xr:  -0.3519732953676804\n",
            "Iteracion: 18xr:  -0.3726329107895147\n",
            "Iteracion: 19xr:  -0.38658045645658107\n",
            "Iteracion: 20xr:  -0.39594450848518686\n",
            "Iteracion: 21xr:  -0.4022078555289199\n",
            "Iteracion: 22xr:  -0.4063867437688146\n",
            "Iteracion: 23xr:  -0.4091702213796429\n",
            "Iteracion: 24xr:  -0.4110221735069874\n",
            "Iteracion: 25xr:  -0.41225343103068385\n",
            "Iteracion: 26xr:  -0.4130716193452267\n"
          ]
        }
      ]
    },
    {
      "cell_type": "markdown",
      "metadata": {
        "id": "YZfRApaAhsTZ"
      },
      "source": [
        "# Ejercicio 5.5-Con el método de bisección."
      ]
    },
    {
      "cell_type": "code",
      "metadata": {
        "id": "xYZoXrZghrC2"
      },
      "source": [
        "def f(x):  #Definimos la funcion que vamos a analizar\n",
        "  return  x**2\n",
        "\n",
        "def bisect(xl,xu,es,imax,xr):\n",
        "  iter=0\n",
        "  ea=0\n",
        "  while True:\n",
        "\n",
        "    xrold = xr  \n",
        "    xr = (xu-(f(xu)*(xl-xu))/(f(xl)-f(xu)))\n",
        "  \n",
        "    iter = iter+1\n",
        "    print(\"Iteracion: \" + str(iter)+ \"xr:  \"+str(xr))\n",
        "    if (xr != 0):\n",
        "       ea= abs((xr-xrold)/xr)*100\n",
        "       test= f(xl)*f(xr)\n",
        "       if (test<0):\n",
        "         xu=xr\n",
        "       elif (test>0):\n",
        "           xl=xr\n",
        "    else :\n",
        "      ea=0\n",
        "    if (ea<es or iter >= imax) :\n",
        "      break "
      ],
      "execution_count": null,
      "outputs": []
    },
    {
      "cell_type": "code",
      "metadata": {
        "colab": {
          "base_uri": "https://localhost:8080/"
        },
        "id": "nvFrb3FvhxgI",
        "outputId": "3b7e1ed5-fd96-4858-d21f-c49abfb052f5"
      },
      "source": [
        "bisect(0.5,1,0.2,50,1)"
      ],
      "execution_count": null,
      "outputs": [
        {
          "output_type": "stream",
          "name": "stdout",
          "text": [
            "Iteracion: 1xr:  0.33333333333333337\n",
            "Iteracion: 2xr:  0.25\n",
            "Iteracion: 3xr:  0.19999999999999996\n",
            "Iteracion: 4xr:  0.16666666666666663\n",
            "Iteracion: 5xr:  0.1428571428571428\n",
            "Iteracion: 6xr:  0.12499999999999989\n",
            "Iteracion: 7xr:  0.11111111111111105\n",
            "Iteracion: 8xr:  0.09999999999999998\n",
            "Iteracion: 9xr:  0.09090909090909083\n",
            "Iteracion: 10xr:  0.08333333333333326\n",
            "Iteracion: 11xr:  0.07692307692307687\n",
            "Iteracion: 12xr:  0.0714285714285714\n",
            "Iteracion: 13xr:  0.06666666666666665\n",
            "Iteracion: 14xr:  0.0625\n",
            "Iteracion: 15xr:  0.05882352941176472\n",
            "Iteracion: 16xr:  0.05555555555555547\n",
            "Iteracion: 17xr:  0.05263157894736836\n",
            "Iteracion: 18xr:  0.04999999999999993\n",
            "Iteracion: 19xr:  0.04761904761904756\n",
            "Iteracion: 20xr:  0.0454545454545453\n",
            "Iteracion: 21xr:  0.04347826086956508\n",
            "Iteracion: 22xr:  0.04166666666666652\n",
            "Iteracion: 23xr:  0.039999999999999925\n",
            "Iteracion: 24xr:  0.038461538461538325\n",
            "Iteracion: 25xr:  0.03703703703703698\n",
            "Iteracion: 26xr:  0.0357142857142857\n",
            "Iteracion: 27xr:  0.03448275862068961\n",
            "Iteracion: 28xr:  0.033333333333333215\n",
            "Iteracion: 29xr:  0.032258064516129004\n",
            "Iteracion: 30xr:  0.03124999999999989\n",
            "Iteracion: 31xr:  0.030303030303030165\n",
            "Iteracion: 32xr:  0.029411764705882137\n",
            "Iteracion: 33xr:  0.02857142857142836\n",
            "Iteracion: 34xr:  0.027777777777777568\n",
            "Iteracion: 35xr:  0.027027027027026862\n",
            "Iteracion: 36xr:  0.02631578947368407\n",
            "Iteracion: 37xr:  0.02564102564102555\n",
            "Iteracion: 38xr:  0.02499999999999991\n",
            "Iteracion: 39xr:  0.024390243902438935\n",
            "Iteracion: 40xr:  0.023809523809523725\n",
            "Iteracion: 41xr:  0.023255813953488302\n",
            "Iteracion: 42xr:  0.022727272727272596\n",
            "Iteracion: 43xr:  0.022222222222222143\n",
            "Iteracion: 44xr:  0.021739130434782483\n",
            "Iteracion: 45xr:  0.02127659574468077\n",
            "Iteracion: 46xr:  0.02083333333333326\n",
            "Iteracion: 47xr:  0.020408163265306034\n",
            "Iteracion: 48xr:  0.019999999999999907\n",
            "Iteracion: 49xr:  0.019607843137254832\n",
            "Iteracion: 50xr:  0.019230769230769162\n"
          ]
        }
      ]
    },
    {
      "cell_type": "markdown",
      "metadata": {
        "id": "g5dTtjw9GgLL"
      },
      "source": [
        "# Ejercicio 5.6\n"
      ]
    },
    {
      "cell_type": "code",
      "metadata": {
        "id": "18vN1A5EGjMn"
      },
      "source": [
        "def f(x):  #Definimos la funcion que vamos a analizar\n",
        "  return x**2\n",
        "\n",
        "def bisect(xl,xu,es,imax,xr):\n",
        "  iter=0\n",
        "  ea=0\n",
        "  while True:\n",
        "\n",
        "    xrold = xr  \n",
        "    xr = (xl+xu)/2\n",
        "  \n",
        "    iter = iter+1\n",
        "    print(\"Iteracion: \" + str(iter)+ \"xr:  \"+str(xr))\n",
        "    if (xr != 0):\n",
        "       ea= abs((xr-xrold)/xr)*100\n",
        "       test= f(xl)*f(xr)\n",
        "       if (test<0):\n",
        "         xu=xr\n",
        "       elif (test>0):\n",
        "           xl=xr\n",
        "    else :\n",
        "      ea=0\n",
        "    if (ea<es or iter >= imax) :\n",
        "      break "
      ],
      "execution_count": null,
      "outputs": []
    },
    {
      "cell_type": "code",
      "metadata": {
        "id": "Q0XRZFyGG88W",
        "colab": {
          "base_uri": "https://localhost:8080/"
        },
        "outputId": "497b4f2d-1e55-4601-d03d-69f14f41297a"
      },
      "source": [
        "bisect(0.5,2,0.1,3,1)"
      ],
      "execution_count": null,
      "outputs": [
        {
          "output_type": "stream",
          "name": "stdout",
          "text": [
            "Iteracion: 1xr:  1.25\n",
            "Iteracion: 2xr:  1.625\n",
            "Iteracion: 3xr:  1.8125\n"
          ]
        }
      ]
    },
    {
      "cell_type": "markdown",
      "metadata": {
        "id": "BpvkpECqWoZY"
      },
      "source": [
        "B) El mismo ejercicios pero con el metodo de falsa posicion"
      ]
    },
    {
      "cell_type": "code",
      "metadata": {
        "id": "fV_dZW9DWs31",
        "colab": {
          "base_uri": "https://localhost:8080/",
          "height": 317
        },
        "outputId": "0eb45ffb-b865-4586-a68b-d7d4dd87c0d9"
      },
      "source": [
        "import math\n",
        "from sympy import *\n",
        "import matplotlib.pyplot as plt\n",
        "import numpy as np\n",
        "from numpy import sin\n",
        "\n",
        "x=symbols('x')\n",
        "function=sympify('x**2')\n",
        "\n",
        "\n",
        "xl= 0.5      #Limite superior del intervalo\n",
        "xu= 2     #Limite inferior del intervalo\n",
        "e=[100]    #Lista de errores\n",
        "xr=[]      #Lista de aproximaciones\n",
        "n=0        #Número de iteraciones\n",
        "tol=0.1    #Tolerancia\n",
        "\n",
        "#Evalua la funcion f(x) en f(a)\n",
        "def f(a):\n",
        "    return function.subs(x,a).evalf()\n",
        "\n",
        "#Grafica\n",
        "xVector=np.arange(xl-1, xu+1, 0.1)\n",
        "y = [x**2-x-6 for x in xVector]\n",
        "plt.plot(xVector,y)\n",
        "plt.axhline(0, color='black')\n",
        "plt.axvline(0, color='black')\n",
        "plt.show()\n",
        "\n",
        "print('Probamos f('  +str(xl)+   ')*f('  + str(xu) +')=' + str(f(xl)*f(xu)) +'\\n')\n",
        "\n",
        "if(f(xl)*f(xu)<0):   #Es negativo, hay raiz en [xl,xu]\n",
        "    print('Hay cambio de signo, entonces existe al menos una raíz real en el intervalo, empezamos a iterar \\n' )\n",
        "    while(e[n]>tol):\n",
        "        xr.append((xl+xu)/2)\n",
        "        if(f(xl)*f(xr[n])<0):  #Hay raiz en el intervalo [xl,xr]\n",
        "            xu=xr[n]\n",
        "        else:\n",
        "            xl=xr[n]\n",
        "        \n",
        "        if n>0:\n",
        "            e.append(abs((xr[n]-xr[n-1])/xr[n])*100)\n",
        "        else:\n",
        "            e.append(100)      \n",
        "        xVector=np.arange(xl-1, xu+1, 0.1)\n",
        "        y = [x**2-x-6 for x in xVector]\n",
        "        plt.plot(xVector,y)\n",
        "        plt.axhline(0, color='black')\n",
        "        plt.axvline(0, color='black')\n",
        "        plt.show()\n",
        "        \n",
        "        print(\"Iteración: \" + str(n+1))\n",
        "        print('Aproximación: '+ str(xr[n]))\n",
        "        print('Error: '+ str(e[n]))\n",
        "        print()\n",
        "        n=n+1\n",
        "        \n",
        "elif (f(xl)*f(xu)>0): #No es negativo, no hay raiz en [xl,xu]\n",
        "  print('No hay cambio de signo en el intervalo [' + str(xl) + \",\" + str(xu) +\"]\")\n",
        "else:                 #Existe raíz en los extremos del intervalo\n",
        "  if(f(xl)==0):\n",
        "    print(\"La raíz está en el extremo inferior del intervalo: \" +str(xl))\n",
        "  if(f(xu)==0):\n",
        "    print(\"La raíz está en el extremo superior del intervalo: \" +str(xu))"
      ],
      "execution_count": null,
      "outputs": [
        {
          "output_type": "display_data",
          "data": {
            "image/png": "[encoded data removed]",
            "text/plain": [
              "<Figure size 432x288 with 1 Axes>"
            ]
          },
          "metadata": {
            "needs_background": "light"
          }
        },
        {
          "output_type": "stream",
          "name": "stdout",
          "text": [
            "Probamos f(0.5)*f(2)=1.00000000000000\n",
            "\n",
            "No hay cambio de signo en el intervalo [0.5,2]\n"
          ]
        }
      ]
    },
    {
      "cell_type": "code",
      "metadata": {
        "id": "idEAK9RuW2xc"
      },
      "source": [
        "bisect(0.5,2,0.1,200,1)"
      ],
      "execution_count": null,
      "outputs": []
    },
    {
      "cell_type": "markdown",
      "metadata": {
        "id": "xYYpS7JLimDG"
      },
      "source": [
        "# Ejercicio 5.7-Con el método de falsa posición."
      ]
    },
    {
      "cell_type": "code",
      "metadata": {
        "colab": {
          "base_uri": "https://localhost:8080/",
          "height": 1000
        },
        "id": "kNcvNDZjiqVT",
        "outputId": "7b03a7a6-7cd5-402b-f192-047c626ab744"
      },
      "source": [
        "import math\n",
        "from sympy import *\n",
        "import matplotlib.pyplot as plt\n",
        "import numpy as np\n",
        "from numpy import sin\n",
        "\n",
        "x=symbols('x')\n",
        "function=sympify('(0.8-0.3*x)/x')\n",
        "\n",
        "\n",
        "xl= 1    #Limite superior del intervalo\n",
        "xu= 3     #Limite inferior del intervalo\n",
        "e=[100]    #Lista de errores\n",
        "xr=[]      #Lista de aproximaciones\n",
        "n=0        #Número de iteraciones\n",
        "tol=0.1    #Tolerancia\n",
        "\n",
        "#Evalua la funcion f(x) en f(a)\n",
        "def f(a):\n",
        "    return function.subs(x,a).evalf()\n",
        "\n",
        "#Grafica\n",
        "xVector=np.arange(xl-1, xu+1, 0.1)\n",
        "y = [x**2-x-6 for x in xVector]\n",
        "plt.plot(xVector,y)\n",
        "plt.axhline(0, color='black')\n",
        "plt.axvline(0, color='black')\n",
        "plt.show()\n",
        "\n",
        "print('Probamos f('  +str(xl)+   ')*f('  + str(xu) +')=' + str(f(xl)*f(xu)) +'\\n')\n",
        "\n",
        "if(f(xl)*f(xu)<0):   #Es negativo, hay raiz en [xl,xu]\n",
        "    print('Hay cambio de signo, entonces existe al menos una raíz real en el intervalo, empezamos a iterar \\n' )\n",
        "    while(e[n]>tol):\n",
        "        xr.append(xu-(f(xu)*(xl-xu))/(f(xl)-f(xu)))\n",
        "        if(f(xl)*f(xr[n])<0):  #Hay raiz en el intervalo [xl,xr]\n",
        "            xu=xr[n]\n",
        "        else:\n",
        "            xl=xr[n]\n",
        "        \n",
        "        if n>0:\n",
        "            e.append(abs((xr[n]-xr[n-1])/xr[n])*100)\n",
        "        else:\n",
        "            e.append(100)        \n",
        "        print(\"Iteración: \" + str(n+1))\n",
        "        print('Aproximación: '+ str(xr[n]))\n",
        "        print('Error: '+ str(e[n]))\n",
        "        print()\n",
        "        n=n+1\n",
        "        \n",
        "elif (f(xl)*f(xu)>0): #No es negativo, no hay raiz en [xl,xu]\n",
        "  print('No hay cambio de signo en el intervalo [' + str(xl) + \",\" + str(xu) +\"]\")\n",
        "else:                 #Existe raíz en los extremos del intervalo\n",
        "  if(f(xl)==0):\n",
        "    print(\"La raíz está en el extremo inferior del intervalo: \" +str(xl))\n",
        "  if(f(xu)==0):\n",
        "    print(\"La raíz está en el extremo superior del intervalo: \" +str(xu))"
      ],
      "execution_count": null,
      "outputs": [
        {
          "output_type": "display_data",
          "data": {
            "image/png": "[encoded data removed]",
            "text/plain": [
              "<Figure size 432x288 with 1 Axes>"
            ]
          },
          "metadata": {
            "needs_background": "light"
          }
        },
        {
          "output_type": "stream",
          "name": "stdout",
          "text": [
            "Probamos f(1)*f(3)=-0.0166666666666666\n",
            "\n",
            "Hay cambio de signo, entonces existe al menos una raíz real en el intervalo, empezamos a iterar \n",
            "\n",
            "Iteración: 1\n",
            "Aproximación: 2.87500000000000\n",
            "Error: 100\n",
            "\n",
            "Iteración: 2\n",
            "Aproximación: 2.79687500000000\n",
            "Error: 100\n",
            "\n",
            "Iteración: 3\n",
            "Aproximación: 2.74804687500000\n",
            "Error: 2.79329608938547\n",
            "\n",
            "Iteración: 4\n",
            "Aproximación: 2.71752929687500\n",
            "Error: 1.77683013503909\n",
            "\n",
            "Iteración: 5\n",
            "Aproximación: 2.69845581054688\n",
            "Error: 1.12298984817177\n",
            "\n",
            "Iteración: 6\n",
            "Aproximación: 2.68653488159180\n",
            "Error: 0.706829671013198\n",
            "\n",
            "Iteración: 7\n",
            "Aproximación: 2.67908430099487\n",
            "Error: 0.443728798638001\n",
            "\n",
            "Iteración: 8\n",
            "Aproximación: 2.67442768812180\n",
            "Error: 0.278101760148311\n",
            "\n",
            "Iteración: 9\n",
            "Aproximación: 2.67151730507612\n",
            "Error: 0.174116237793950\n",
            "\n",
            "Iteración: 10\n",
            "Aproximación: 2.66969831567258\n",
            "Error: 0.108941201321937\n",
            "\n"
          ]
        }
      ]
    },
    {
      "cell_type": "markdown",
      "metadata": {
        "id": "jT4oN_FCA0-N"
      },
      "source": [
        "# Ejercicio 5.8-Con el método de falsa posición."
      ]
    },
    {
      "cell_type": "code",
      "metadata": {
        "colab": {
          "base_uri": "https://localhost:8080/",
          "height": 317
        },
        "id": "O5i4piJ3A3q-",
        "outputId": "95bde76e-16fe-4a69-8648-d6086ad989eb"
      },
      "source": [
        "import math\n",
        "from sympy import *\n",
        "import matplotlib.pyplot as plt\n",
        "import numpy as np\n",
        "from numpy import sin\n",
        "\n",
        "x=symbols('x')\n",
        "function=sympify('x')\n",
        "\n",
        "\n",
        "xl= 4    #Limite superior del intervalo\n",
        "xu= 5     #Limite inferior del intervalo\n",
        "e=[100]    #Lista de errores\n",
        "xr=[]      #Lista de aproximaciones\n",
        "n=0        #Número de iteraciones\n",
        "tol=0.1    #Tolerancia\n",
        "\n",
        "#Evalua la funcion f(x) en f(a)\n",
        "def f(a):\n",
        "    return function.subs(x,a).evalf()\n",
        "\n",
        "#Grafica\n",
        "xVector=np.arange(xl-1, xu+1, 0.1)\n",
        "y = [x**2-x-6 for x in xVector]\n",
        "plt.plot(xVector,y)\n",
        "plt.axhline(0, color='black')\n",
        "plt.axvline(0, color='black')\n",
        "plt.show()\n",
        "\n",
        "print('Probamos f('  +str(xl)+   ')*f('  + str(xu) +')=' + str(f(xl)*f(xu)) +'\\n')\n",
        "\n",
        "if(f(xl)*f(xu)<0):   #Es negativo, hay raiz en [xl,xu]\n",
        "    print('Hay cambio de signo, entonces existe al menos una raíz real en el intervalo, empezamos a iterar \\n' )\n",
        "    while(e[n]>tol):\n",
        "        xr.append(xu-(f(xu)*(xl-xu))/(f(xl)-f(xu)))\n",
        "        if(f(xl)*f(xr[n])<0):  #Hay raiz en el intervalo [xl,xr]\n",
        "            xu=xr[n]\n",
        "        else:\n",
        "            xl=xr[n]\n",
        "        \n",
        "        if n>0:\n",
        "            e.append(abs((xr[n]-xr[n-1])/xr[n])*100)\n",
        "        else:\n",
        "            e.append(100)        \n",
        "        print(\"Iteración: \" + str(n+1))\n",
        "        print('Aproximación: '+ str(xr[n]))\n",
        "        print('Error: '+ str(e[n]))\n",
        "        print()\n",
        "        n=n+1\n",
        "        \n",
        "elif (f(xl)*f(xu)>0): #No es negativo, no hay raiz en [xl,xu]\n",
        "  print('No hay cambio de signo en el intervalo [' + str(xl) + \",\" + str(xu) +\"]\")\n",
        "else:                 #Existe raíz en los extremos del intervalo\n",
        "  if(f(xl)==0):\n",
        "    print(\"La raíz está en el extremo inferior del intervalo: \" +str(xl))\n",
        "  if(f(xu)==0):\n",
        "    print(\"La raíz está en el extremo superior del intervalo: \" +str(xu))"
      ],
      "execution_count": null,
      "outputs": [
        {
          "output_type": "display_data",
          "data": {
            "image/png": "[encoded data removed]",
            "text/plain": [
              "<Figure size 432x288 with 1 Axes>"
            ]
          },
          "metadata": {
            "needs_background": "light"
          }
        },
        {
          "output_type": "stream",
          "name": "stdout",
          "text": [
            "Probamos f(4)*f(5)=20.0000000000000\n",
            "\n",
            "No hay cambio de signo en el intervalo [4,5]\n"
          ]
        }
      ]
    },
    {
      "cell_type": "markdown",
      "metadata": {
        "id": "YuRy9dCsBGM7"
      },
      "source": [
        "# Ejercicio 5.9-Con el método de falsa posición."
      ]
    },
    {
      "cell_type": "code",
      "metadata": {
        "colab": {
          "base_uri": "https://localhost:8080/",
          "height": 317
        },
        "id": "MYMb1Uf2BJQb",
        "outputId": "9e42a495-111c-4240-ddd6-a5b6a47dded0"
      },
      "source": [
        "import math\n",
        "from sympy import *\n",
        "import matplotlib.pyplot as plt\n",
        "import numpy as np\n",
        "from numpy import sin\n",
        "\n",
        "x=symbols('x')\n",
        "function=sympify('x**2')\n",
        "\n",
        "\n",
        "xl= 0   #Limite superior del intervalo\n",
        "xu= 5     #Limite inferior del intervalo\n",
        "e=[100]    #Lista de errores\n",
        "xr=[]      #Lista de aproximaciones\n",
        "n=0        #Número de iteraciones\n",
        "tol=0.1    #Tolerancia\n",
        "\n",
        "#Evalua la funcion f(x) en f(a)\n",
        "def f(a):\n",
        "    return function.subs(x,a).evalf()\n",
        "\n",
        "#Grafica\n",
        "xVector=np.arange(xl-1, xu+1, 0.1)\n",
        "y = [x**2-x-6 for x in xVector]\n",
        "plt.plot(xVector,y)\n",
        "plt.axhline(0, color='black')\n",
        "plt.axvline(0, color='black')\n",
        "plt.show()\n",
        "\n",
        "print('Probamos f('  +str(xl)+   ')*f('  + str(xu) +')=' + str(f(xl)*f(xu)) +'\\n')\n",
        "\n",
        "if(f(xl)*f(xu)<0):   #Es negativo, hay raiz en [xl,xu]\n",
        "    print('Hay cambio de signo, entonces existe al menos una raíz real en el intervalo, empezamos a iterar \\n' )\n",
        "    while(e[n]>tol):\n",
        "        xr.append(xu-(f(xu)*(xl-xu))/(f(xl)-f(xu)))\n",
        "        if(f(xl)*f(xr[n])<0):  #Hay raiz en el intervalo [xl,xr]\n",
        "            xu=xr[n]\n",
        "        else:\n",
        "            xl=xr[n]\n",
        "        \n",
        "        if n>0:\n",
        "            e.append(abs((xr[n]-xr[n-1])/xr[n])*100)\n",
        "        else:\n",
        "            e.append(100)        \n",
        "        print(\"Iteración: \" + str(n+1))\n",
        "        print('Aproximación: '+ str(xr[n]))\n",
        "        print('Error: '+ str(e[n]))\n",
        "        print()\n",
        "        n=n+1\n",
        "        \n",
        "elif (f(xl)*f(xu)>0): #No es negativo, no hay raiz en [xl,xu]\n",
        "  print('No hay cambio de signo en el intervalo [' + str(xl) + \",\" + str(xu) +\"]\")\n",
        "else:                 #Existe raíz en los extremos del intervalo\n",
        "  if(f(xl)==0):\n",
        "    print(\"La raíz está en el extremo inferior del intervalo: \" +str(xl))\n",
        "  if(f(xu)==0):\n",
        "    print(\"La raíz está en el extremo superior del intervalo: \" +str(xu))"
      ],
      "execution_count": null,
      "outputs": [
        {
          "output_type": "display_data",
          "data": {
            "image/png": "[encoded data removed]",
            "text/plain": [
              "<Figure size 432x288 with 1 Axes>"
            ]
          },
          "metadata": {
            "needs_background": "light"
          }
        },
        {
          "output_type": "stream",
          "name": "stdout",
          "text": [
            "Probamos f(0)*f(5)=0\n",
            "\n",
            "La raíz está en el extremo inferior del intervalo: 0\n"
          ]
        }
      ]
    },
    {
      "cell_type": "markdown",
      "metadata": {
        "id": "IHtYeYc8C16P"
      },
      "source": [
        "# Ejercicio 5.10-Con el método de falsa posición."
      ]
    },
    {
      "cell_type": "code",
      "metadata": {
        "colab": {
          "base_uri": "https://localhost:8080/",
          "height": 1000
        },
        "id": "erXMhusSC5EC",
        "outputId": "2cd2cfc3-943a-45cd-baee-51165caa992e"
      },
      "source": [
        "import math\n",
        "from sympy import *\n",
        "import matplotlib.pyplot as plt\n",
        "import numpy as np\n",
        "from numpy import sin\n",
        "\n",
        "x=symbols('x')\n",
        "function=sympify('x**4-8*x**3-35*x**2+450*x-1001')\n",
        "\n",
        "\n",
        "xl= 4.5    #Limite superior del intervalo\n",
        "xu= 6     #Limite inferior del intervalo\n",
        "e=[100]    #Lista de errores\n",
        "xr=[]      #Lista de aproximaciones\n",
        "n=0        #Número de iteraciones\n",
        "tol=0.1    #Tolerancia\n",
        "\n",
        "#Evalua la funcion f(x) en f(a)\n",
        "def f(a):\n",
        "    return function.subs(x,a).evalf()\n",
        "\n",
        "#Grafica\n",
        "xVector=np.arange(xl-1, xu+1, 0.1)\n",
        "y = [x**2-x-6 for x in xVector]\n",
        "plt.plot(xVector,y)\n",
        "plt.axhline(0, color='black')\n",
        "plt.axvline(0, color='black')\n",
        "plt.show()\n",
        "\n",
        "print('Probamos f('  +str(xl)+   ')*f('  + str(xu) +')=' + str(f(xl)*f(xu)) +'\\n')\n",
        "\n",
        "if(f(xl)*f(xu)<0):   #Es negativo, hay raiz en [xl,xu]\n",
        "    print('Hay cambio de signo, entonces existe al menos una raíz real en el intervalo, empezamos a iterar \\n' )\n",
        "    while(e[n]>tol):\n",
        "        xr.append(xu-(f(xu)*(xl-xu))/(f(xl)-f(xu)))\n",
        "        if(f(xl)*f(xr[n])<0):  #Hay raiz en el intervalo [xl,xr]\n",
        "            xu=xr[n]\n",
        "        else:\n",
        "            xl=xr[n]\n",
        "        \n",
        "        if n>0:\n",
        "            e.append(abs((xr[n]-xr[n-1])/xr[n])*100)\n",
        "        else:\n",
        "            e.append(100)        \n",
        "        print(\"Iteración: \" + str(n+1))\n",
        "        print('Aproximación: '+ str(xr[n]))\n",
        "        print('Error: '+ str(e[n]))\n",
        "        print()\n",
        "        n=n+1\n",
        "        \n",
        "elif (f(xl)*f(xu)>0): #No es negativo, no hay raiz en [xl,xu]\n",
        "  print('No hay cambio de signo en el intervalo [' + str(xl) + \",\" + str(xu) +\"]\")\n",
        "else:                 #Existe raíz en los extremos del intervalo\n",
        "  if(f(xl)==0):\n",
        "    print(\"La raíz está en el extremo inferior del intervalo: \" +str(xl))\n",
        "  if(f(xu)==0):\n",
        "    print(\"La raíz está en el extremo superior del intervalo: \" +str(xu))"
      ],
      "execution_count": null,
      "outputs": [
        {
          "output_type": "display_data",
          "data": {
            "image/png": "[encoded data removed]",
            "text/plain": [
              "<Figure size 432x288 with 1 Axes>"
            ]
          },
          "metadata": {
            "needs_background": "light"
          }
        },
        {
          "output_type": "stream",
          "name": "stdout",
          "text": [
            "Probamos f(4.5)*f(6)=-25.8125000000000\n",
            "\n",
            "Hay cambio de signo, entonces existe al menos una raíz real en el intervalo, empezamos a iterar \n",
            "\n",
            "Iteración: 1\n",
            "Aproximación: 5.01754385964912\n",
            "Error: 100\n",
            "\n",
            "Iteración: 2\n",
            "Aproximación: 5.14050924299099\n",
            "Error: 100\n",
            "\n",
            "Iteración: 3\n",
            "Aproximación: 5.25401009634645\n",
            "Error: 2.39208563839335\n",
            "\n",
            "Iteración: 4\n",
            "Aproximación: 5.35704575923766\n",
            "Error: 2.16027094113096\n",
            "\n",
            "Iteración: 5\n",
            "Aproximación: 5.44263720129879\n",
            "Error: 1.92336723488939\n",
            "\n",
            "Iteración: 6\n",
            "Aproximación: 5.50616874571578\n",
            "Error: 1.57260972751788\n",
            "\n",
            "Iteración: 7\n",
            "Aproximación: 5.54867018913819\n",
            "Error: 1.15382487081274\n",
            "\n",
            "Iteración: 8\n",
            "Aproximación: 5.57493421867859\n",
            "Error: 0.765975305319284\n",
            "\n",
            "Iteración: 9\n",
            "Aproximación: 5.59032366767295\n",
            "Error: 0.471109227664173\n",
            "\n",
            "Iteración: 10\n",
            "Aproximación: 5.59905084927358\n",
            "Error: 0.275287262584638\n",
            "\n",
            "Iteración: 11\n",
            "Aproximación: 5.60390635009407\n",
            "Error: 0.155868946997679\n",
            "\n"
          ]
        }
      ]
    }
  ]
}