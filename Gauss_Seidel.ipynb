{
  "nbformat": 4,
  "nbformat_minor": 0,
  "metadata": {
    "kernelspec": {
      "name": "python36",
      "display_name": "Python 3.6",
      "language": "python"
    },
    "language_info": {
      "mimetype": "text/x-python",
      "nbconvert_exporter": "python",
      "name": "python",
      "pygments_lexer": "ipython3",
      "version": "3.6.6",
      "file_extension": ".py",
      "codemirror_mode": {
        "version": 3,
        "name": "ipython"
      }
    },
    "colab": {
      "name": "Gauss-Seidel.ipynb",
      "provenance": [],
      "include_colab_link": true
    }
  },
  "cells": [
    {
      "cell_type": "markdown",
      "metadata": {
        "id": "view-in-github",
        "colab_type": "text"
      },
      "source": [
        "<a href=\"https://colab.research.google.com/github/aldoxd82/optimizacion1D/blob/master/Gauss_Seidel.ipynb\" target=\"_parent\"><img src=\"https://colab.research.google.com/assets/colab-badge.svg\" alt=\"Open In Colab\"/></a>"
      ]
    },
    {
      "cell_type": "markdown",
      "metadata": {
        "collapsed": true,
        "id": "7y13xYHzbhJ0"
      },
      "source": [
        "\n",
        "# Métodos iterativos.\n",
        "\n",
        "Hasta ahora, hemos trabajado con métodos directos de solución. La característica común de estos métodos es que encuentran una solución a través de realizar unas serie de cálculos finitos. Si la computadora fuera capaz de una precisión infinita, la solución sería exacta.\n",
        "\n",
        "Por otra parte, los métodos iterativos, utilizan una estimación inicial de la solución x y la van refinando de manera iterativa hasta que el error sea despreciable. Una de las desventajas de estos métodos es que no siempre convergen a una solución.\n",
        "\n",
        "A continuación vamos a introducir el Método Gauss-Seidel para la solución de Sistemas de Ecuaciones Lineales.\n",
        "\n",
        "## Método Gauss-Seidel\n",
        "\n",
        "Podemos escribir las ecuaciones $Ax=b$ en notación escalar:\n",
        "\n",
        "$$\\sum_{j=1}^{n}A_{ij}x_{j}=b_i, \\quad    i=1,2,..,n$$\n",
        "\n",
        "Si extraemos de la sumatoria al término $x_i$\n",
        "\n",
        "$$ A_{ii}x_i+\\sum_{\\begin{array}{lcl} j=1 \\\\ j \\ne i \\end{array}}^{n}A_{ij}x_{j}=b_i, \\quad    i=1,2,..,n$$\n",
        "\n",
        "Ahora podemos despejar a $x_i$\n",
        "\n",
        "$$ x_i=\\frac{1}{A_{ii}} \\left( b_i-\\sum_{\\begin{array}{lcl} j=1 \\\\ j \\ne i \\end{array}}^{n}A_{ij}x_{j} \\right), \\quad    i=1,2,..,n$$\n",
        "\n",
        "Lo que sugiere un esquema iterativo como el que sigue\n",
        "\n",
        "$$ x_i \\leftarrow \\frac{1}{A_{ii}} \\left( b_i-\\sum_{\\begin{array}{lcl} j=1 \\\\ j \\ne i \\end{array}}^{n}A_{ij}x_{j} \\right), \\quad    i=1,2,..,n$$\n",
        "\n",
        "Empezamos eligiendo el vector inicial $x$, si no existe una aproximación adecuada, podemos elegir a x de manera arbitraria."
      ]
    },
    {
      "cell_type": "code",
      "metadata": {
        "trusted": true,
        "id": "2tN-Dk2ObhJ4"
      },
      "source": [
        "import numpy as np\n",
        "def seidel(A,b):\n",
        "    n=len(b) #Determinamos el número de incógnitas.\n",
        "    x=np.zeros(n) #Generamos un vector dependiendo el número de incógnitas\n",
        "    \n",
        "    for i in range (n):\n",
        "        suma=0\n",
        "        for j in range (n):\n",
        "            if(j!=i):\n",
        "                suma-=A[i][j]*x[j]                \n",
        "            x[i]=(b[i]+suma)/A[i][i]\n",
        "        print(\"x[\"+str(i)+\"]:\",x[i])        "
      ],
      "execution_count": null,
      "outputs": []
    },
    {
      "cell_type": "code",
      "metadata": {
        "trusted": true,
        "id": "MRzxt5qRbhJ8",
        "outputId": "035f8b18-4069-41c2-875c-59275cb8f256"
      },
      "source": [
        "A = [[4, 1, 2],[3, 5, 1],[1, 1, 3]] \n",
        "b = [4,7,3]\n",
        "seidel(A,b) "
      ],
      "execution_count": null,
      "outputs": [
        {
          "output_type": "stream",
          "text": "x[0]: 1.0\nx[1]: 0.8\nx[2]: 0.39999999999999997\n",
          "name": "stdout"
        }
      ]
    },
    {
      "cell_type": "code",
      "metadata": {
        "trusted": true,
        "id": "d4cEOiz3bhJ9"
      },
      "source": [
        "import matplotlib.pyplot as plt\n",
        "import math\n",
        "\n",
        "def AlgIterativo(valorActual,iteracionMaxima,errorMinimo):\n",
        "    contadorIteraciones=0\n",
        "    valorAnterior=0\n",
        "    errorActual=0;\n",
        "    vectorX=[]\n",
        "    vectorY=[]\n",
        "    while(1):\n",
        "        valorAnterior=valorActual\n",
        "        valorActual=f(valorActual)\n",
        "        contadorIteraciones=contadorIteraciones+1\n",
        "        errorActual=abs((valorAnterior-valorActual)/valorActual)\n",
        "        \n",
        "        vectorX.append(contadorIteraciones)\n",
        "        vectorY.append(valorActual)\n",
        "        \n",
        "        if (errorActual<=errorMinimo):\n",
        "            fig, ax = plt.subplots()\n",
        "            ax.scatter(vectorX, vectorY)\n",
        "            plt.show()\n",
        "            return valorActual\n",
        "        elif (contadorIteraciones==iteracionMaxima):\n",
        "            print(\"Se alcanzaron las iteraciones máximas\")\n",
        "            fig, ax = plt.subplots()\n",
        "            ax.scatter(vectorX, vectorY)\n",
        "            plt.show()\n",
        "            break\n",
        "        print(\"Iteración \"+ str(contadorIteraciones) +\": \"+ str(valorActual))\n",
        "        #print(vectorX)\n",
        "        #print(vectorY)\n",
        "    \n",
        "def f(x):\n",
        "    return (math.cos(x))"
      ],
      "execution_count": null,
      "outputs": []
    }
  ]
}